{
 "cells": [
  {
   "cell_type": "markdown",
   "metadata": {},
   "source": [
    "# 02 - Data from the Web"
   ]
  },
  {
   "cell_type": "code",
   "execution_count": 5,
   "metadata": {
    "collapsed": false
   },
   "outputs": [],
   "source": [
    "import pandas as pd\n",
    "import numpy as np\n",
    "import requests\n",
    "from bs4 import BeautifulSoup"
   ]
  },
  {
   "cell_type": "markdown",
   "metadata": {},
   "source": [
    " We will first download all the data needed to perform the analysis for Master students.\n",
    " \n",
    " Then we will calculate time spent at EPFL for each student.\n",
    " \n",
    " Finally we will calculate if average time for students having particural Specialization is significantly different.\n"
   ]
  },
  {
   "cell_type": "markdown",
   "metadata": {},
   "source": [
    "We start by downloading the form from isa webpage.\n",
    "Using console in webbrowser we found a direct link to the frame containing the form. "
   ]
  },
  {
   "cell_type": "code",
   "execution_count": 6,
   "metadata": {
    "collapsed": false
   },
   "outputs": [
    {
     "data": {
      "text/plain": [
       "'http://isa.epfl.ch/imoniteur_ISAP/!GEDPUBLICREPORTS.filter?ww_i_reportModel=133685247 200'"
      ]
     },
     "execution_count": 6,
     "metadata": {},
     "output_type": "execute_result"
    }
   ],
   "source": [
    "\n",
    "urlParams = {'ww_i_reportModel': '133685247'}\n",
    "isa_baseurl = 'http://isa.epfl.ch/imoniteur_ISAP/!GEDPUBLICREPORTS'\n",
    "isa_formurl= isa_baseurl + \".filter\"\n",
    "r = requests.get(isa_formurl, params=urlParams)\n",
    "r.url + \" \" + str(r.status_code)"
   ]
  },
  {
   "cell_type": "markdown",
   "metadata": {
    "collapsed": true
   },
   "source": [
    "We are building a framework that will let us easily get a pandas Dataframe if we provide parameters we see on the isa webpage.\n",
    "\n",
    "To achieve it, we implement a function that accepts as argument label of input from ISA webpage (for instance \"Unité académique\") and label of option (for instance \"Informatique\") and returns key-value pair that should be included as GET parameter."
   ]
  },
  {
   "cell_type": "code",
   "execution_count": 7,
   "metadata": {
    "collapsed": false
   },
   "outputs": [
    {
     "data": {
      "text/plain": [
       "('ww_x_UNITE_ACAD', '249847')"
      ]
     },
     "execution_count": 7,
     "metadata": {},
     "output_type": "execute_result"
    }
   ],
   "source": [
    "soup = BeautifulSoup(r.text, 'html.parser')\n",
    "form = form = soup.find('form')\n",
    "\n",
    "def findSelectNameAndOptionValue(inputLabel, optionLabel):\n",
    "    th = form.find('th', string=inputLabel)\n",
    "    td = th.nextSibling\n",
    "    select = td.find('select')\n",
    "    option = select.find('option', string=optionLabel)\n",
    "    return (select['name'], option['value'])\n",
    "\n",
    "findSelectNameAndOptionValue(\"Unité académique\", \"Informatique\")"
   ]
  },
  {
   "cell_type": "markdown",
   "metadata": {},
   "source": [
    "Now we can build a function that generates all the parameters for GET request.\n",
    "Some parameters are always the same and we know them because we used POSTMAN.\n",
    "We decided to download data as HTML."
   ]
  },
  {
   "cell_type": "code",
   "execution_count": 8,
   "metadata": {
    "collapsed": false
   },
   "outputs": [
    {
     "data": {
      "text/plain": [
       "{'ww_i_reportModel': '133685247',\n",
       " 'ww_i_reportModelXsl': '133685270',\n",
       " 'ww_x_GPS': '-1',\n",
       " 'ww_x_HIVERETE': '2936286',\n",
       " 'ww_x_PERIODE_ACAD': '355925344',\n",
       " 'ww_x_PERIODE_PEDAGO': '249108',\n",
       " 'ww_x_UNITE_ACAD': '249847'}"
      ]
     },
     "execution_count": 8,
     "metadata": {},
     "output_type": "execute_result"
    }
   ],
   "source": [
    "def generateParams(humanReadableParams):\n",
    "    fixedParams = {\n",
    "        'ww_i_reportModel': '133685247',\n",
    "        'ww_i_reportModelXsl': '133685270',\n",
    "        'ww_x_GPS': '-1',\n",
    "    }\n",
    "    params = dict([findSelectNameAndOptionValue(x, y) for (x, y) in humanReadableParams.items()])\n",
    "    return {**fixedParams, **params}\n",
    "\n",
    "# Example\n",
    "exampleParams = {\n",
    "    \"Unité académique\": \"Informatique\",\n",
    "    \"Période académique\": \"2016-2017\",\n",
    "    \"Période pédagogique\": \"Bachelor semestre 1\",\n",
    "    \"Type de semestre\": \"Semestre d'automne\",\n",
    "}\n",
    "generateParams(exampleParams)"
   ]
  },
  {
   "cell_type": "markdown",
   "metadata": {},
   "source": [
    "The data for given semester and year always comes as html table.\n",
    "For `Bachelor semestre`, `Master semestre`, `Projet Master` the structure of the table is always the same,\n",
    "so we can parse it all with one function."
   ]
  },
  {
   "cell_type": "code",
   "execution_count": 9,
   "metadata": {
    "collapsed": false
   },
   "outputs": [],
   "source": [
    "def extractTable(html):\n",
    "    \"\"\"Extract the table from HTML into a pandas Dataframe.\"\"\"\n",
    "    BStable = BeautifulSoup(html, 'html.parser').find('table')\n",
    "    BSRows = BStable.findAll('tr')\n",
    "    # BSrows[0] is just the title of the table, so we ignore it.\n",
    "    headerBSRow = BSRows[1]\n",
    "    headers = [th.text for th in headerBSRow]\n",
    "    # We drop the last column, because it's always empty (originally it is used to make the HTML table look better).\n",
    "    rows = [[tr.text for tr in BSRow.findAll('td')[:-1]] for BSRow in BSRows[2:]]\n",
    "    return pd.DataFrame(data=rows, columns=headers)"
   ]
  },
  {
   "cell_type": "markdown",
   "metadata": {},
   "source": [
    "Now we combine generating parameters and parsing and receive the promised function."
   ]
  },
  {
   "cell_type": "code",
   "execution_count": 10,
   "metadata": {
    "collapsed": false,
    "scrolled": true
   },
   "outputs": [
    {
     "data": {
      "text/html": [
       "<div>\n",
       "<table border=\"1\" class=\"dataframe\">\n",
       "  <thead>\n",
       "    <tr style=\"text-align: right;\">\n",
       "      <th></th>\n",
       "      <th>Civilité</th>\n",
       "      <th>Nom Prénom</th>\n",
       "      <th>Orientation Bachelor</th>\n",
       "      <th>Orientation Master</th>\n",
       "      <th>Spécialisation</th>\n",
       "      <th>Filière opt.</th>\n",
       "      <th>Mineur</th>\n",
       "      <th>Statut</th>\n",
       "      <th>Type Echange</th>\n",
       "      <th>Ecole Echange</th>\n",
       "      <th>No Sciper</th>\n",
       "    </tr>\n",
       "  </thead>\n",
       "  <tbody>\n",
       "    <tr>\n",
       "      <th>0</th>\n",
       "      <td>Monsieur</td>\n",
       "      <td>Abbey Alexandre</td>\n",
       "      <td></td>\n",
       "      <td></td>\n",
       "      <td></td>\n",
       "      <td></td>\n",
       "      <td></td>\n",
       "      <td>Présent</td>\n",
       "      <td></td>\n",
       "      <td></td>\n",
       "      <td>235688</td>\n",
       "    </tr>\n",
       "    <tr>\n",
       "      <th>1</th>\n",
       "      <td>Monsieur</td>\n",
       "      <td>Ahn Seongho</td>\n",
       "      <td></td>\n",
       "      <td></td>\n",
       "      <td></td>\n",
       "      <td></td>\n",
       "      <td></td>\n",
       "      <td>Présent</td>\n",
       "      <td></td>\n",
       "      <td></td>\n",
       "      <td>274015</td>\n",
       "    </tr>\n",
       "    <tr>\n",
       "      <th>2</th>\n",
       "      <td>Madame</td>\n",
       "      <td>Alemanno Sara</td>\n",
       "      <td></td>\n",
       "      <td></td>\n",
       "      <td></td>\n",
       "      <td></td>\n",
       "      <td></td>\n",
       "      <td>Présent</td>\n",
       "      <td></td>\n",
       "      <td></td>\n",
       "      <td>268410</td>\n",
       "    </tr>\n",
       "    <tr>\n",
       "      <th>3</th>\n",
       "      <td>Monsieur</td>\n",
       "      <td>Althaus Luca</td>\n",
       "      <td></td>\n",
       "      <td></td>\n",
       "      <td></td>\n",
       "      <td></td>\n",
       "      <td></td>\n",
       "      <td>Présent</td>\n",
       "      <td></td>\n",
       "      <td></td>\n",
       "      <td>271464</td>\n",
       "    </tr>\n",
       "    <tr>\n",
       "      <th>4</th>\n",
       "      <td>Monsieur</td>\n",
       "      <td>Assi Karim</td>\n",
       "      <td></td>\n",
       "      <td></td>\n",
       "      <td></td>\n",
       "      <td></td>\n",
       "      <td></td>\n",
       "      <td>Présent</td>\n",
       "      <td></td>\n",
       "      <td></td>\n",
       "      <td>274518</td>\n",
       "    </tr>\n",
       "  </tbody>\n",
       "</table>\n",
       "</div>"
      ],
      "text/plain": [
       "   Civilité       Nom Prénom Orientation Bachelor Orientation Master  \\\n",
       "0  Monsieur  Abbey Alexandre                                           \n",
       "1  Monsieur      Ahn Seongho                                           \n",
       "2    Madame    Alemanno Sara                                           \n",
       "3  Monsieur     Althaus Luca                                           \n",
       "4  Monsieur       Assi Karim                                           \n",
       "\n",
       "  Spécialisation Filière opt. Mineur   Statut Type Echange Ecole Echange  \\\n",
       "0                                     Présent                              \n",
       "1                                     Présent                              \n",
       "2                                     Présent                              \n",
       "3                                     Présent                              \n",
       "4                                     Présent                              \n",
       "\n",
       "  No Sciper  \n",
       "0    235688  \n",
       "1    274015  \n",
       "2    268410  \n",
       "3    271464  \n",
       "4    274518  "
      ]
     },
     "execution_count": 10,
     "metadata": {},
     "output_type": "execute_result"
    }
   ],
   "source": [
    "def getDataFrame(humanReadableParams):\n",
    "    isa_dataurl = isa_baseurl + \".html\"\n",
    "    r = requests.get(isa_dataurl, params=generateParams(humanReadableParams))\n",
    "    return extractTable(r.text)\n",
    "\n",
    "getDataFrame({\n",
    "    \"Unité académique\": \"Informatique\",\n",
    "    \"Période académique\": \"2016-2017\",\n",
    "    \"Période pédagogique\": \"Bachelor semestre 1\",\n",
    "    \"Type de semestre\": \"Semestre d'automne\",\n",
    "}).head()"
   ]
  },
  {
   "cell_type": "markdown",
   "metadata": {},
   "source": [
    "Before actually downloading the data it's worth considering what we will need.\n",
    "By simply clicking things on ISA webpage we noted that data for `Projet Master` is really scarce.\n",
    "The same applies to `Master semestre 4`. Therefore we decided not to use it.\n",
    "\n",
    "We want to estimate only the time student spends at EPFL on regular studying (no Projet Master, no internship).\n",
    "Still however, we hope to exclude the students who didn't graduate. How can we guess if student graduated?\n",
    "\n",
    "Well, we use 2 criteria:\n",
    "1. Every student should at least appear in `Master semestre 1` and `Master semestre 2`.\n",
    "2. If a student does a `Mineur` he must appear in `Master semestre 3` because it's too many ECTS to do in 2 semesters.\n",
    "\n",
    "These criteria will also exclude some students who started before 2007, but it only makes the sample smaller.\n",
    "\n",
    "Finally, the time spent at EPFL is calculated in semesters as the difference between chronogically first and last semesters in which student was registered. This account for all weird orders in which student could pass the semesters."
   ]
  },
  {
   "cell_type": "markdown",
   "metadata": {},
   "source": [
    "Instead of remembering years and whether semester was in the first part of the year or in the second, we simply order all semester chronogically starting from 0.\n",
    "\n",
    "\n",
    "We're downloading all the tables from ISA webpage. With each table we remember what type of semester (master 1, 2, 3) and which semester chronogically it describes."
   ]
  },
  {
   "cell_type": "code",
   "execution_count": 12,
   "metadata": {
    "collapsed": false
   },
   "outputs": [
    {
     "name": "stdout",
     "output_type": "stream",
     "text": [
      "Running... >> 2007 >> 2008 >> 2009 >> 2010 >> 2011 >> 2012 >> 2013 >> 2014 >> 2015 ...finished!\n"
     ]
    }
   ],
   "source": [
    "def getMasterData():\n",
    "    \"\"\"Get all needed Master data as list of tuples (semesterType, semesterNo, dataframe).\"\"\"\n",
    "    startYear = 2007\n",
    "    endYear = 2016\n",
    "    data = []\n",
    "    print(\"Running... \", end='')\n",
    "    for year in range (startYear, endYear):\n",
    "        period = \"{:d}-{:d}\".format(year, year + 1)\n",
    "        m1Params = {\n",
    "            \"Unité académique\": \"Informatique\",\n",
    "            \"Période académique\": period,\n",
    "            \"Période pédagogique\": \"Master semestre 1\",\n",
    "            \"Type de semestre\": \"Semestre d'automne\",\n",
    "        }\n",
    "        m2Params = {\n",
    "            \"Unité académique\": \"Informatique\",\n",
    "            \"Période académique\": period,\n",
    "            \"Période pédagogique\": \"Master semestre 2\",\n",
    "            \"Type de semestre\": \"Semestre de printemps\",\n",
    "        }\n",
    "        m3Params = {\n",
    "            \"Unité académique\": \"Informatique\",\n",
    "            \"Période académique\": period,\n",
    "            \"Période pédagogique\": \"Master semestre 3\",\n",
    "            \"Type de semestre\": \"Semestre d'automne\",\n",
    "        }\n",
    "        m1 = (1, (year - startYear) * 2    , getDataFrame(m1Params)) \n",
    "        m2 = (2, (year - startYear) * 2 + 1, getDataFrame(m2Params))\n",
    "        m3 = (3, (year - startYear) * 2    , getDataFrame(m3Params))\n",
    "        data.extend([m1, m2, m3])\n",
    "        print(\">> \" + str(year) + ' ', end='')\n",
    "    print(\"...finished!\")\n",
    "    return data\n",
    "        \n",
    "masterData = getMasterData()"
   ]
  },
  {
   "cell_type": "code",
   "execution_count": 13,
   "metadata": {
    "collapsed": false
   },
   "outputs": [
    {
     "data": {
      "text/plain": [
       "[(1, 0, (71, 11)),\n",
       " (2, 1, (87, 11)),\n",
       " (3, 0, (65, 11)),\n",
       " (1, 2, (60, 11)),\n",
       " (2, 3, (64, 11)),\n",
       " (3, 2, (48, 11)),\n",
       " (1, 4, (52, 11)),\n",
       " (2, 5, (62, 11)),\n",
       " (3, 4, (34, 11)),\n",
       " (1, 6, (96, 11)),\n",
       " (2, 7, (109, 11)),\n",
       " (3, 6, (40, 11)),\n",
       " (1, 8, (102, 11)),\n",
       " (2, 9, (123, 11)),\n",
       " (3, 8, (67, 11)),\n",
       " (1, 10, (88, 11)),\n",
       " (2, 11, (130, 11)),\n",
       " (3, 10, (87, 11)),\n",
       " (1, 12, (104, 11)),\n",
       " (2, 13, (138, 11)),\n",
       " (3, 12, (75, 11)),\n",
       " (1, 14, (104, 11)),\n",
       " (2, 15, (151, 11)),\n",
       " (3, 14, (81, 11)),\n",
       " (1, 16, (132, 11)),\n",
       " (2, 17, (196, 11)),\n",
       " (3, 16, (92, 11))]"
      ]
     },
     "execution_count": 13,
     "metadata": {},
     "output_type": "execute_result"
    }
   ],
   "source": [
    "# Let's check we get sensible number of rows everywhere.\n",
    "\n",
    "def checkData(data):\n",
    "    return [(semType, semNo, dataFrame.shape) for (semType, semNo, dataFrame) in data]\n",
    "\n",
    "checkData(masterData)"
   ]
  },
  {
   "cell_type": "markdown",
   "metadata": {},
   "source": [
    "To make the further transformations easier, we stack up all the dataframes and metainformation together into one Dataframe. The structure of the dataframe is rather self-explaining. Note that for now there may be multiple multiple rows related to one student."
   ]
  },
  {
   "cell_type": "code",
   "execution_count": 16,
   "metadata": {
    "collapsed": false
   },
   "outputs": [
    {
     "data": {
      "text/html": [
       "<div>\n",
       "<table border=\"1\" class=\"dataframe\">\n",
       "  <thead>\n",
       "    <tr style=\"text-align: right;\">\n",
       "      <th></th>\n",
       "      <th>No Sciper</th>\n",
       "      <th>Spécialisation</th>\n",
       "      <th>Mineur</th>\n",
       "      <th>master1</th>\n",
       "      <th>master2</th>\n",
       "      <th>master3</th>\n",
       "      <th>semNo</th>\n",
       "    </tr>\n",
       "  </thead>\n",
       "  <tbody>\n",
       "    <tr>\n",
       "      <th>59</th>\n",
       "      <td>215127</td>\n",
       "      <td></td>\n",
       "      <td>False</td>\n",
       "      <td>True</td>\n",
       "      <td>False</td>\n",
       "      <td>False</td>\n",
       "      <td>8</td>\n",
       "    </tr>\n",
       "    <tr>\n",
       "      <th>60</th>\n",
       "      <td>186250</td>\n",
       "      <td>Foundations of Software</td>\n",
       "      <td>False</td>\n",
       "      <td>False</td>\n",
       "      <td>True</td>\n",
       "      <td>False</td>\n",
       "      <td>9</td>\n",
       "    </tr>\n",
       "    <tr>\n",
       "      <th>69</th>\n",
       "      <td>211018</td>\n",
       "      <td>Internet computing</td>\n",
       "      <td>False</td>\n",
       "      <td>False</td>\n",
       "      <td>True</td>\n",
       "      <td>False</td>\n",
       "      <td>9</td>\n",
       "    </tr>\n",
       "    <tr>\n",
       "      <th>93</th>\n",
       "      <td>227660</td>\n",
       "      <td></td>\n",
       "      <td>False</td>\n",
       "      <td>True</td>\n",
       "      <td>False</td>\n",
       "      <td>False</td>\n",
       "      <td>16</td>\n",
       "    </tr>\n",
       "    <tr>\n",
       "      <th>12</th>\n",
       "      <td>184991</td>\n",
       "      <td>Signals, Images and Interfaces</td>\n",
       "      <td>False</td>\n",
       "      <td>False</td>\n",
       "      <td>False</td>\n",
       "      <td>True</td>\n",
       "      <td>10</td>\n",
       "    </tr>\n",
       "  </tbody>\n",
       "</table>\n",
       "</div>"
      ],
      "text/plain": [
       "   No Sciper                  Spécialisation Mineur master1 master2 master3  \\\n",
       "59    215127                                  False    True   False   False   \n",
       "60    186250         Foundations of Software  False   False    True   False   \n",
       "69    211018              Internet computing  False   False    True   False   \n",
       "93    227660                                  False    True   False   False   \n",
       "12    184991  Signals, Images and Interfaces  False   False   False    True   \n",
       "\n",
       "    semNo  \n",
       "59      8  \n",
       "60      9  \n",
       "69      9  \n",
       "93     16  \n",
       "12     10  "
      ]
     },
     "execution_count": 16,
     "metadata": {},
     "output_type": "execute_result"
    }
   ],
   "source": [
    "def prepare(triple):\n",
    "    (semType, semNo, dataFrame) = triple\n",
    "    df = dataFrame[['No Sciper', 'Spécialisation']].copy()\n",
    "    df['Mineur'] = dataFrame['Mineur'] != ''\n",
    "    df['master1'] = semType == 1\n",
    "    df['master2'] = semType == 2\n",
    "    df['master3'] = semType == 3\n",
    "    df['semNo'] = semNo\n",
    "    return df\n",
    "\n",
    "concatedData = pd.concat(map(prepare, masterData))\n",
    "concatedData.sample(5)"
   ]
  },
  {
   "cell_type": "markdown",
   "metadata": {},
   "source": [
    "Let's see how many unique students we consider."
   ]
  },
  {
   "cell_type": "code",
   "execution_count": 17,
   "metadata": {
    "collapsed": false
   },
   "outputs": [
    {
     "data": {
      "text/plain": [
       "855"
      ]
     },
     "execution_count": 17,
     "metadata": {},
     "output_type": "execute_result"
    }
   ],
   "source": [
    "len(concatedData['No Sciper'].unique())"
   ]
  },
  {
   "cell_type": "markdown",
   "metadata": {},
   "source": [
    "We are aggregating the data for each student to be able to tell whether he ever was in master 1, 2, 3 or has a Mineur and last but not least how long he was at EPFL.\n",
    "We'll treat the Specialisations individually, because as it happens some students may have more than one."
   ]
  },
  {
   "cell_type": "code",
   "execution_count": 18,
   "metadata": {
    "collapsed": false
   },
   "outputs": [
    {
     "data": {
      "text/html": [
       "<div>\n",
       "<table border=\"1\" class=\"dataframe\">\n",
       "  <thead>\n",
       "    <tr style=\"text-align: right;\">\n",
       "      <th></th>\n",
       "      <th>No Sciper</th>\n",
       "      <th>Mineur</th>\n",
       "      <th>master3</th>\n",
       "      <th>semNo</th>\n",
       "      <th>master1</th>\n",
       "      <th>master2</th>\n",
       "    </tr>\n",
       "  </thead>\n",
       "  <tbody>\n",
       "    <tr>\n",
       "      <th>0</th>\n",
       "      <td>128911</td>\n",
       "      <td>False</td>\n",
       "      <td>True</td>\n",
       "      <td>2</td>\n",
       "      <td>False</td>\n",
       "      <td>True</td>\n",
       "    </tr>\n",
       "    <tr>\n",
       "      <th>1</th>\n",
       "      <td>129093</td>\n",
       "      <td>False</td>\n",
       "      <td>True</td>\n",
       "      <td>2</td>\n",
       "      <td>False</td>\n",
       "      <td>True</td>\n",
       "    </tr>\n",
       "    <tr>\n",
       "      <th>2</th>\n",
       "      <td>129326</td>\n",
       "      <td>False</td>\n",
       "      <td>True</td>\n",
       "      <td>2</td>\n",
       "      <td>False</td>\n",
       "      <td>True</td>\n",
       "    </tr>\n",
       "    <tr>\n",
       "      <th>3</th>\n",
       "      <td>138088</td>\n",
       "      <td>False</td>\n",
       "      <td>False</td>\n",
       "      <td>1</td>\n",
       "      <td>True</td>\n",
       "      <td>False</td>\n",
       "    </tr>\n",
       "    <tr>\n",
       "      <th>4</th>\n",
       "      <td>145546</td>\n",
       "      <td>False</td>\n",
       "      <td>True</td>\n",
       "      <td>1</td>\n",
       "      <td>False</td>\n",
       "      <td>False</td>\n",
       "    </tr>\n",
       "  </tbody>\n",
       "</table>\n",
       "</div>"
      ],
      "text/plain": [
       "  No Sciper Mineur master3  semNo master1 master2\n",
       "0    128911  False    True      2   False    True\n",
       "1    129093  False    True      2   False    True\n",
       "2    129326  False    True      2   False    True\n",
       "3    138088  False   False      1    True   False\n",
       "4    145546  False    True      1   False   False"
      ]
     },
     "execution_count": 18,
     "metadata": {},
     "output_type": "execute_result"
    }
   ],
   "source": [
    "def aggregateData(data):\n",
    "    neededData = data[['No Sciper', 'Mineur', 'master1', 'master2', 'master3', 'semNo']]\n",
    "    aggregations = {\n",
    "        'Mineur': 'any',\n",
    "        'master1': 'any',\n",
    "        'master2': 'any',\n",
    "        'master3': 'any',\n",
    "        'semNo': lambda x: max(x) - min(x) + 1\n",
    "    }\n",
    "    return data.groupby(['No Sciper'], as_index=False).agg(aggregations)\n",
    "studentsData = aggregateData(concatedData)\n",
    "studentsData.head()"
   ]
  },
  {
   "cell_type": "markdown",
   "metadata": {},
   "source": [
    "It lets us choose \"good\" students, that is the students that, we believe, graduated."
   ]
  },
  {
   "cell_type": "code",
   "execution_count": 20,
   "metadata": {
    "collapsed": false
   },
   "outputs": [
    {
     "name": "stdout",
     "output_type": "stream",
     "text": [
      "743\n"
     ]
    },
    {
     "data": {
      "text/html": [
       "<div>\n",
       "<table border=\"1\" class=\"dataframe\">\n",
       "  <thead>\n",
       "    <tr style=\"text-align: right;\">\n",
       "      <th></th>\n",
       "      <th>No Sciper</th>\n",
       "      <th>semNo</th>\n",
       "    </tr>\n",
       "  </thead>\n",
       "  <tbody>\n",
       "    <tr>\n",
       "      <th>0</th>\n",
       "      <td>146330</td>\n",
       "      <td>3</td>\n",
       "    </tr>\n",
       "    <tr>\n",
       "      <th>1</th>\n",
       "      <td>146742</td>\n",
       "      <td>9</td>\n",
       "    </tr>\n",
       "    <tr>\n",
       "      <th>2</th>\n",
       "      <td>146929</td>\n",
       "      <td>2</td>\n",
       "    </tr>\n",
       "    <tr>\n",
       "      <th>3</th>\n",
       "      <td>147008</td>\n",
       "      <td>4</td>\n",
       "    </tr>\n",
       "    <tr>\n",
       "      <th>4</th>\n",
       "      <td>152232</td>\n",
       "      <td>3</td>\n",
       "    </tr>\n",
       "  </tbody>\n",
       "</table>\n",
       "</div>"
      ],
      "text/plain": [
       "  No Sciper  semNo\n",
       "0    146330      3\n",
       "1    146742      9\n",
       "2    146929      2\n",
       "3    147008      4\n",
       "4    152232      3"
      ]
     },
     "execution_count": 20,
     "metadata": {},
     "output_type": "execute_result"
    }
   ],
   "source": [
    "goodStudents = studentsData \\\n",
    "    .query('master1 and master2 and (master3 or not Mineur)') \\\n",
    "    [['No Sciper', 'semNo']] \\\n",
    "    .reset_index(drop=True)\n",
    "    \n",
    "print(len(goodStudents))\n",
    "goodStudents.head()"
   ]
  },
  {
   "cell_type": "markdown",
   "metadata": {},
   "source": [
    "Let's see what specialisations exist."
   ]
  },
  {
   "cell_type": "code",
   "execution_count": 21,
   "metadata": {
    "collapsed": false
   },
   "outputs": [
    {
     "data": {
      "text/plain": [
       "['Internet computing',\n",
       " 'Foundations of Software',\n",
       " 'Biocomputing',\n",
       " 'Signals, Images and Interfaces',\n",
       " 'Computer Engineering - SP',\n",
       " 'Service science',\n",
       " 'Software Systems',\n",
       " 'Information Security - SP',\n",
       " 'Data Analytics',\n",
       " 'Internet Information Systems',\n",
       " 'Computer Science Theory']"
      ]
     },
     "execution_count": 21,
     "metadata": {},
     "output_type": "execute_result"
    }
   ],
   "source": [
    "specials = concatedData \\\n",
    "    .query(\"Spécialisation != ''\") \\\n",
    "    ['Spécialisation'] \\\n",
    "    .unique().tolist()\n",
    "specials"
   ]
  },
  {
   "cell_type": "markdown",
   "metadata": {},
   "source": [
    "And we can choose the students pursuing a particular specialisation..."
   ]
  },
  {
   "cell_type": "code",
   "execution_count": 25,
   "metadata": {
    "collapsed": false
   },
   "outputs": [
    {
     "name": "stdout",
     "output_type": "stream",
     "text": [
      "4\n"
     ]
    },
    {
     "data": {
      "text/html": [
       "<div>\n",
       "<table border=\"1\" class=\"dataframe\">\n",
       "  <thead>\n",
       "    <tr style=\"text-align: right;\">\n",
       "      <th></th>\n",
       "      <th>No Sciper</th>\n",
       "      <th>semNo</th>\n",
       "    </tr>\n",
       "  </thead>\n",
       "  <tbody>\n",
       "    <tr>\n",
       "      <th>0</th>\n",
       "      <td>172611</td>\n",
       "      <td>3</td>\n",
       "    </tr>\n",
       "    <tr>\n",
       "      <th>1</th>\n",
       "      <td>154573</td>\n",
       "      <td>5</td>\n",
       "    </tr>\n",
       "    <tr>\n",
       "      <th>2</th>\n",
       "      <td>169734</td>\n",
       "      <td>5</td>\n",
       "    </tr>\n",
       "    <tr>\n",
       "      <th>3</th>\n",
       "      <td>183185</td>\n",
       "      <td>3</td>\n",
       "    </tr>\n",
       "  </tbody>\n",
       "</table>\n",
       "</div>"
      ],
      "text/plain": [
       "  No Sciper  semNo\n",
       "0    172611      3\n",
       "1    154573      5\n",
       "2    169734      5\n",
       "3    183185      3"
      ]
     },
     "execution_count": 25,
     "metadata": {},
     "output_type": "execute_result"
    }
   ],
   "source": [
    "def findSpecialStudents(special):\n",
    "    specialScipers = concatedData \\\n",
    "        .query(\"Spécialisation == @special\") \\\n",
    "        [['No Sciper']] \\\n",
    "        .drop_duplicates() \\\n",
    "        .reset_index(drop=True)\n",
    "    return specialScipers.merge(goodStudents, on='No Sciper')\n",
    "\n",
    "specialStudents = {spec: findSpecialStudents(spec) for spec in specials}\n",
    "\n",
    "print(len(specialStudents['Biocomputing']))\n",
    "specialStudents['Biocomputing']"
   ]
  },
  {
   "cell_type": "markdown",
   "metadata": {},
   "source": [
    "Results, finally!"
   ]
  },
  {
   "cell_type": "markdown",
   "metadata": {},
   "source": [
    "#### Average time spent at EPFL in semesters"
   ]
  },
  {
   "cell_type": "code",
   "execution_count": 27,
   "metadata": {
    "collapsed": false
   },
   "outputs": [
    {
     "name": "stdout",
     "output_type": "stream",
     "text": [
      ">> All students <<\n",
      "Average: 3.107672\n",
      "Number of students: 743\n"
     ]
    }
   ],
   "source": [
    "print(\">> All students <<\")\n",
    "print(\"Average: {:f}\".format(goodStudents['semNo'].mean()))\n",
    "print(\"Number of students: {:d}\".format(len(goodStudents)))"
   ]
  },
  {
   "cell_type": "code",
   "execution_count": 43,
   "metadata": {
    "collapsed": false
   },
   "outputs": [
    {
     "data": {
      "text/html": [
       "<div>\n",
       "<table border=\"1\" class=\"dataframe\">\n",
       "  <thead>\n",
       "    <tr style=\"text-align: right;\">\n",
       "      <th></th>\n",
       "      <th>Spécialisation</th>\n",
       "      <th>mean in semesters</th>\n",
       "      <th>number of students</th>\n",
       "    </tr>\n",
       "  </thead>\n",
       "  <tbody>\n",
       "    <tr>\n",
       "      <th>0</th>\n",
       "      <td>Service science</td>\n",
       "      <td>3.600000</td>\n",
       "      <td>5</td>\n",
       "    </tr>\n",
       "    <tr>\n",
       "      <th>1</th>\n",
       "      <td>Signals, Images and Interfaces</td>\n",
       "      <td>4.000000</td>\n",
       "      <td>31</td>\n",
       "    </tr>\n",
       "    <tr>\n",
       "      <th>2</th>\n",
       "      <td>Software Systems</td>\n",
       "      <td>2.941176</td>\n",
       "      <td>17</td>\n",
       "    </tr>\n",
       "    <tr>\n",
       "      <th>3</th>\n",
       "      <td>Computer Engineering - SP</td>\n",
       "      <td>3.300000</td>\n",
       "      <td>20</td>\n",
       "    </tr>\n",
       "    <tr>\n",
       "      <th>4</th>\n",
       "      <td>Data Analytics</td>\n",
       "      <td>2.000000</td>\n",
       "      <td>4</td>\n",
       "    </tr>\n",
       "    <tr>\n",
       "      <th>5</th>\n",
       "      <td>Information Security - SP</td>\n",
       "      <td>2.571429</td>\n",
       "      <td>7</td>\n",
       "    </tr>\n",
       "    <tr>\n",
       "      <th>6</th>\n",
       "      <td>Computer Science Theory</td>\n",
       "      <td>2.000000</td>\n",
       "      <td>1</td>\n",
       "    </tr>\n",
       "    <tr>\n",
       "      <th>7</th>\n",
       "      <td>Internet Information Systems</td>\n",
       "      <td>2.000000</td>\n",
       "      <td>1</td>\n",
       "    </tr>\n",
       "    <tr>\n",
       "      <th>8</th>\n",
       "      <td>Foundations of Software</td>\n",
       "      <td>3.725806</td>\n",
       "      <td>62</td>\n",
       "    </tr>\n",
       "    <tr>\n",
       "      <th>9</th>\n",
       "      <td>Internet computing</td>\n",
       "      <td>3.623656</td>\n",
       "      <td>93</td>\n",
       "    </tr>\n",
       "    <tr>\n",
       "      <th>10</th>\n",
       "      <td>Biocomputing</td>\n",
       "      <td>4.000000</td>\n",
       "      <td>4</td>\n",
       "    </tr>\n",
       "  </tbody>\n",
       "</table>\n",
       "</div>"
      ],
      "text/plain": [
       "                    Spécialisation  mean in semesters  number of students\n",
       "0                  Service science           3.600000                   5\n",
       "1   Signals, Images and Interfaces           4.000000                  31\n",
       "2                 Software Systems           2.941176                  17\n",
       "3        Computer Engineering - SP           3.300000                  20\n",
       "4                   Data Analytics           2.000000                   4\n",
       "5        Information Security - SP           2.571429                   7\n",
       "6          Computer Science Theory           2.000000                   1\n",
       "7     Internet Information Systems           2.000000                   1\n",
       "8          Foundations of Software           3.725806                  62\n",
       "9               Internet computing           3.623656                  93\n",
       "10                    Biocomputing           4.000000                   4"
      ]
     },
     "execution_count": 43,
     "metadata": {},
     "output_type": "execute_result"
    }
   ],
   "source": [
    "means = [df['semNo'].mean() for df in specialStudents.values()]\n",
    "studentNums = [len(df) for df in specialStudents.values()]\n",
    "\n",
    "pd.DataFrame({\n",
    "    'Spécialisation': list(specialStudents.keys()),\n",
    "    'mean in semesters': means,\n",
    "    'number of students': studentNums,\n",
    "    })"
   ]
  },
  {
   "cell_type": "markdown",
   "metadata": {},
   "source": [
    "We shouldn't treat the Spécialisations with 1 person seriously, but we can finish the analysis.\n",
    "We use 2-sample t-test analysis, because it checks if two populations have the same average.\n",
    "However the populations should have empty intersection, so for each specialisation we compare it with all the __other__ students."
   ]
  },
  {
   "cell_type": "markdown",
   "metadata": {},
   "source": [
    "#### Is the average time spent at EPFL significantly different?"
   ]
  },
  {
   "cell_type": "code",
   "execution_count": 45,
   "metadata": {
    "collapsed": false
   },
   "outputs": [
    {
     "name": "stderr",
     "output_type": "stream",
     "text": [
      "/Users/nutka/anaconda3/lib/python3.5/site-packages/numpy/core/_methods.py:82: RuntimeWarning: Degrees of freedom <= 0 for slice\n",
      "  warnings.warn(\"Degrees of freedom <= 0 for slice\", RuntimeWarning)\n"
     ]
    },
    {
     "data": {
      "text/html": [
       "<div>\n",
       "<table border=\"1\" class=\"dataframe\">\n",
       "  <thead>\n",
       "    <tr style=\"text-align: right;\">\n",
       "      <th></th>\n",
       "      <th>Spécialisation</th>\n",
       "      <th>is average significantly different</th>\n",
       "    </tr>\n",
       "  </thead>\n",
       "  <tbody>\n",
       "    <tr>\n",
       "      <th>0</th>\n",
       "      <td>Internet computing</td>\n",
       "      <td>True</td>\n",
       "    </tr>\n",
       "    <tr>\n",
       "      <th>1</th>\n",
       "      <td>Foundations of Software</td>\n",
       "      <td>True</td>\n",
       "    </tr>\n",
       "    <tr>\n",
       "      <th>2</th>\n",
       "      <td>Biocomputing</td>\n",
       "      <td>False</td>\n",
       "    </tr>\n",
       "    <tr>\n",
       "      <th>3</th>\n",
       "      <td>Signals, Images and Interfaces</td>\n",
       "      <td>True</td>\n",
       "    </tr>\n",
       "    <tr>\n",
       "      <th>4</th>\n",
       "      <td>Computer Engineering - SP</td>\n",
       "      <td>False</td>\n",
       "    </tr>\n",
       "    <tr>\n",
       "      <th>5</th>\n",
       "      <td>Service science</td>\n",
       "      <td>False</td>\n",
       "    </tr>\n",
       "    <tr>\n",
       "      <th>6</th>\n",
       "      <td>Software Systems</td>\n",
       "      <td>False</td>\n",
       "    </tr>\n",
       "    <tr>\n",
       "      <th>7</th>\n",
       "      <td>Information Security - SP</td>\n",
       "      <td>False</td>\n",
       "    </tr>\n",
       "    <tr>\n",
       "      <th>8</th>\n",
       "      <td>Data Analytics</td>\n",
       "      <td>True</td>\n",
       "    </tr>\n",
       "    <tr>\n",
       "      <th>9</th>\n",
       "      <td>Internet Information Systems</td>\n",
       "      <td>False</td>\n",
       "    </tr>\n",
       "    <tr>\n",
       "      <th>10</th>\n",
       "      <td>Computer Science Theory</td>\n",
       "      <td>False</td>\n",
       "    </tr>\n",
       "  </tbody>\n",
       "</table>\n",
       "</div>"
      ],
      "text/plain": [
       "                    Spécialisation is average significantly different\n",
       "0               Internet computing                               True\n",
       "1          Foundations of Software                               True\n",
       "2                     Biocomputing                              False\n",
       "3   Signals, Images and Interfaces                               True\n",
       "4        Computer Engineering - SP                              False\n",
       "5                  Service science                              False\n",
       "6                 Software Systems                              False\n",
       "7        Information Security - SP                              False\n",
       "8                   Data Analytics                               True\n",
       "9     Internet Information Systems                              False\n",
       "10         Computer Science Theory                              False"
      ]
     },
     "execution_count": 45,
     "metadata": {},
     "output_type": "execute_result"
    }
   ],
   "source": [
    "import scipy.stats\n",
    "def pvalue(spec):\n",
    "    chosenStudents = specialStudents[spec]\n",
    "    indexes = goodStudents['No Sciper'].isin(chosenStudents['No Sciper'])\n",
    "    otherStudents = goodStudents[~indexes]\n",
    "    return scipy.stats.ttest_ind(\n",
    "        a=chosenStudents['semNo'],\n",
    "        b=otherStudents['semNo'],\n",
    "        equal_var=False).pvalue\n",
    "\n",
    "result = [pvalue(spec) <= 0.05 for spec in specials]\n",
    "pd.DataFrame({\n",
    "    'Spécialisation': specials,\n",
    "    'is average significantly different': result,\n",
    "    })"
   ]
  }
 ],
 "metadata": {
  "anaconda-cloud": {},
  "kernelspec": {
   "display_name": "Python [conda root]",
   "language": "python",
   "name": "conda-root-py"
  },
  "language_info": {
   "codemirror_mode": {
    "name": "ipython",
    "version": 3
   },
   "file_extension": ".py",
   "mimetype": "text/x-python",
   "name": "python",
   "nbconvert_exporter": "python",
   "pygments_lexer": "ipython3",
   "version": "3.5.2"
  }
 },
 "nbformat": 4,
 "nbformat_minor": 1
}
