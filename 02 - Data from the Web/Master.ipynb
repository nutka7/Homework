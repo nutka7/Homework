{
 "cells": [
  {
   "cell_type": "markdown",
   "metadata": {},
   "source": [
    "# 02 - Data from the Web"
   ]
  },
  {
   "cell_type": "markdown",
   "metadata": {},
   "source": [
    "We start importing all the libraries that we are going to use."
   ]
  },
  {
   "cell_type": "code",
   "execution_count": 1,
   "metadata": {
    "collapsed": false
   },
   "outputs": [],
   "source": [
    "import pandas as pd\n",
    "import numpy as np\n",
    "import requests\n",
    "from bs4 import BeautifulSoup"
   ]
  },
  {
   "cell_type": "markdown",
   "metadata": {},
   "source": [
    "Generating the base of our futures requests"
   ]
  },
  {
   "cell_type": "code",
   "execution_count": 2,
   "metadata": {
    "collapsed": false
   },
   "outputs": [
    {
     "data": {
      "text/plain": [
       "'http://isa.epfl.ch/imoniteur_ISAP/!GEDPUBLICREPORTS.filter?ww_i_reportModel=133685247 200'"
      ]
     },
     "execution_count": 2,
     "metadata": {},
     "output_type": "execute_result"
    }
   ],
   "source": [
    "# We will create a string that contains the url to the isacademia form\n",
    "# From there we will get all the values we need for making our request petitions.\n",
    "payloadform = {'ww_i_reportModel': '133685247'}\n",
    "isa_baseurl = 'http://isa.epfl.ch/imoniteur_ISAP/!GEDPUBLICREPORTS'\n",
    "isa_formurl= isa_baseurl + \".filter\"\n",
    "r = requests.get(isa_formurl, params=payloadform)\n",
    "# Here is the url to the isa form\n",
    "s = r.url + \" \" + str(r.status_code)  \n",
    "s"
   ]
  },
  {
   "cell_type": "markdown",
   "metadata": {
    "collapsed": true
   },
   "source": [
    "Now we will build a framework that lets us easily get a pandas Dataframe for given parameters."
   ]
  },
  {
   "cell_type": "code",
   "execution_count": 3,
   "metadata": {
    "collapsed": false
   },
   "outputs": [
    {
     "data": {
      "text/plain": [
       "('ww_x_UNITE_ACAD', '249847')"
      ]
     },
     "execution_count": 3,
     "metadata": {},
     "output_type": "execute_result"
    }
   ],
   "source": [
    "soup = BeautifulSoup(r.text, 'html.parser')\n",
    "form = form = soup.find('form')\n",
    "\n",
    "def findSelectNameAndOptionValue(inputLabel, optionLabel):\n",
    "    th = form.find('th', string=inputLabel)\n",
    "    td = th.nextSibling\n",
    "    select = td.find('select')\n",
    "    option = select.find('option', string=optionLabel)\n",
    "    return (select['name'], option['value'])\n",
    "\n",
    "findSelectNameAndOptionValue(\"Unité académique\", \"Informatique\")"
   ]
  },
  {
   "cell_type": "code",
   "execution_count": 5,
   "metadata": {
    "collapsed": false
   },
   "outputs": [
    {
     "data": {
      "text/plain": [
       "{'ww_i_reportModel': '133685247',\n",
       " 'ww_i_reportModelXsl': '133685270',\n",
       " 'ww_x_GPS': '-1',\n",
       " 'ww_x_HIVERETE': '2936286',\n",
       " 'ww_x_PERIODE_ACAD': '355925344',\n",
       " 'ww_x_PERIODE_PEDAGO': '249108',\n",
       " 'ww_x_UNITE_ACAD': '249847'}"
      ]
     },
     "execution_count": 5,
     "metadata": {},
     "output_type": "execute_result"
    }
   ],
   "source": [
    "def generateParams(humanReadableParams):\n",
    "    fixedParams = {\n",
    "        'ww_i_reportModel': '133685247',\n",
    "        'ww_i_reportModelXsl': '133685270',\n",
    "        'ww_x_GPS': '-1',\n",
    "    }\n",
    "    params = dict([findSelectNameAndOptionValue(x, y) for (x, y) in humanReadableParams.items()])\n",
    "    return {**fixedParams, **params}\n",
    "\n",
    "# Example\n",
    "exampleParams = {\n",
    "    \"Unité académique\": \"Informatique\",\n",
    "    \"Période académique\": \"2016-2017\",\n",
    "    \"Période pédagogique\": \"Bachelor semestre 1\",\n",
    "    \"Type de semestre\": \"Semestre d'automne\",\n",
    "}\n",
    "generateParams(exampleParams)"
   ]
  },
  {
   "cell_type": "code",
   "execution_count": 6,
   "metadata": {
    "collapsed": false
   },
   "outputs": [],
   "source": [
    "# Now we will parse the html using BeautifulSoup library.\n",
    "# The data comes in a html table. It won't be hard to parse it into pandas dataframe.\n",
    "\n",
    "# For `Bachelor semestre`, `Master semetre`, `Projet Master` the structure of the table is always the same.\n",
    "\n",
    "def extractTable(html):\n",
    "    \"\"\"Extract the table from HTML into a pandas Dataframe.\"\"\"\n",
    "    BStable = BeautifulSoup(html, 'html.parser').find('table')\n",
    "    BSRows = BStable.findAll('tr')\n",
    "    # BSrows[0] is just the title of the table, so we ignore it.\n",
    "    headerBSRow = BSRows[1]\n",
    "    headers = [th.string for th in headerBSRow]\n",
    "    # We drop the last column, because it's always empty (originally it is used to make the HTML table look better).\n",
    "    rows = [[tr.string for tr in BSRow.findAll('td')[:-1]] for BSRow in BSRows[2:]]\n",
    "    return pd.DataFrame(data=rows, columns=headers)"
   ]
  },
  {
   "cell_type": "code",
   "execution_count": 8,
   "metadata": {
    "collapsed": false,
    "scrolled": true
   },
   "outputs": [
    {
     "data": {
      "text/html": [
       "<div>\n",
       "<table border=\"1\" class=\"dataframe\">\n",
       "  <thead>\n",
       "    <tr style=\"text-align: right;\">\n",
       "      <th></th>\n",
       "      <th>Civilité</th>\n",
       "      <th>Nom Prénom</th>\n",
       "      <th>Orientation Bachelor</th>\n",
       "      <th>Orientation Master</th>\n",
       "      <th>Spécialisation</th>\n",
       "      <th>Filière opt.</th>\n",
       "      <th>Mineur</th>\n",
       "      <th>Statut</th>\n",
       "      <th>Type Echange</th>\n",
       "      <th>Ecole Echange</th>\n",
       "      <th>No Sciper</th>\n",
       "    </tr>\n",
       "  </thead>\n",
       "  <tbody>\n",
       "    <tr>\n",
       "      <th>0</th>\n",
       "      <td>Monsieur</td>\n",
       "      <td>Abbey Alexandre</td>\n",
       "      <td>None</td>\n",
       "      <td>None</td>\n",
       "      <td>None</td>\n",
       "      <td>None</td>\n",
       "      <td>None</td>\n",
       "      <td>Présent</td>\n",
       "      <td>None</td>\n",
       "      <td>None</td>\n",
       "      <td>235688</td>\n",
       "    </tr>\n",
       "    <tr>\n",
       "      <th>1</th>\n",
       "      <td>Monsieur</td>\n",
       "      <td>Ahn Seongho</td>\n",
       "      <td>None</td>\n",
       "      <td>None</td>\n",
       "      <td>None</td>\n",
       "      <td>None</td>\n",
       "      <td>None</td>\n",
       "      <td>Présent</td>\n",
       "      <td>None</td>\n",
       "      <td>None</td>\n",
       "      <td>274015</td>\n",
       "    </tr>\n",
       "    <tr>\n",
       "      <th>2</th>\n",
       "      <td>Madame</td>\n",
       "      <td>Alemanno Sara</td>\n",
       "      <td>None</td>\n",
       "      <td>None</td>\n",
       "      <td>None</td>\n",
       "      <td>None</td>\n",
       "      <td>None</td>\n",
       "      <td>Présent</td>\n",
       "      <td>None</td>\n",
       "      <td>None</td>\n",
       "      <td>268410</td>\n",
       "    </tr>\n",
       "    <tr>\n",
       "      <th>3</th>\n",
       "      <td>Monsieur</td>\n",
       "      <td>Althaus Luca</td>\n",
       "      <td>None</td>\n",
       "      <td>None</td>\n",
       "      <td>None</td>\n",
       "      <td>None</td>\n",
       "      <td>None</td>\n",
       "      <td>Présent</td>\n",
       "      <td>None</td>\n",
       "      <td>None</td>\n",
       "      <td>271464</td>\n",
       "    </tr>\n",
       "    <tr>\n",
       "      <th>4</th>\n",
       "      <td>Monsieur</td>\n",
       "      <td>Assi Karim</td>\n",
       "      <td>None</td>\n",
       "      <td>None</td>\n",
       "      <td>None</td>\n",
       "      <td>None</td>\n",
       "      <td>None</td>\n",
       "      <td>Présent</td>\n",
       "      <td>None</td>\n",
       "      <td>None</td>\n",
       "      <td>274518</td>\n",
       "    </tr>\n",
       "  </tbody>\n",
       "</table>\n",
       "</div>"
      ],
      "text/plain": [
       "   Civilité       Nom Prénom Orientation Bachelor Orientation Master  \\\n",
       "0  Monsieur  Abbey Alexandre                 None               None   \n",
       "1  Monsieur      Ahn Seongho                 None               None   \n",
       "2    Madame    Alemanno Sara                 None               None   \n",
       "3  Monsieur     Althaus Luca                 None               None   \n",
       "4  Monsieur       Assi Karim                 None               None   \n",
       "\n",
       "  Spécialisation Filière opt. Mineur   Statut Type Echange Ecole Echange  \\\n",
       "0           None         None   None  Présent         None          None   \n",
       "1           None         None   None  Présent         None          None   \n",
       "2           None         None   None  Présent         None          None   \n",
       "3           None         None   None  Présent         None          None   \n",
       "4           None         None   None  Présent         None          None   \n",
       "\n",
       "  No Sciper  \n",
       "0    235688  \n",
       "1    274015  \n",
       "2    268410  \n",
       "3    271464  \n",
       "4    274518  "
      ]
     },
     "execution_count": 8,
     "metadata": {},
     "output_type": "execute_result"
    }
   ],
   "source": [
    "import random\n",
    "def getDataFrame(humanReadableParams):\n",
    "    isa_dataurl = isa_baseurl + \".html\"\n",
    "    r = requests.get(isa_dataurl, params=generateParams(humanReadableParams))\n",
    "    return extractTable(r.text)\n",
    "    \n",
    "getDataFrame(exampleParams).head()"
   ]
  }
 ],
 "metadata": {
  "anaconda-cloud": {},
  "kernelspec": {
   "display_name": "Python [conda root]",
   "language": "python",
   "name": "conda-root-py"
  },
  "language_info": {
   "codemirror_mode": {
    "name": "ipython",
    "version": 3
   },
   "file_extension": ".py",
   "mimetype": "text/x-python",
   "name": "python",
   "nbconvert_exporter": "python",
   "pygments_lexer": "ipython3",
   "version": "3.5.2"
  }
 },
 "nbformat": 4,
 "nbformat_minor": 1
}
