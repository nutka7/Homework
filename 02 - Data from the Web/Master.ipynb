{
 "cells": [
  {
   "cell_type": "markdown",
   "metadata": {},
   "source": [
    "# 02 - Data from the Web"
   ]
  },
  {
   "cell_type": "code",
   "execution_count": 1,
   "metadata": {
    "collapsed": false
   },
   "outputs": [],
   "source": [
    "import pandas as pd\n",
    "import numpy as np\n",
    "import pylab\n",
    "import scipy.stats\n",
    "import requests\n",
    "from bs4 import BeautifulSoup"
   ]
  },
  {
   "cell_type": "markdown",
   "metadata": {},
   "source": [
    " In the notebook you will see the following \"big\" steps:\n",
    " 1. Downloading all the data needed to perform the analysis for Master students.\n",
    " 2. Cleaning data and calculating time spent at EPFL for each student.\n",
    " 3. Choosing only students with a particular specialization.\n",
    " 4. Calculating the average stay at EPFL for all students and for Specializations.\n",
    " 5. Testing if the average stay for a particular Specialization is significantly different than for all students.\n"
   ]
  },
  {
   "cell_type": "markdown",
   "metadata": {},
   "source": [
    "We start by downloading form from isa webpage.\n",
    "Using a console in webbrowser we found a direct link to the frame containing the form on the left.\n",
    "We learned we have to send a URL parameter as well thanks to POSTMAN."
   ]
  },
  {
   "cell_type": "code",
   "execution_count": 2,
   "metadata": {
    "collapsed": false
   },
   "outputs": [
    {
     "data": {
      "text/plain": [
       "'http://isa.epfl.ch/imoniteur_ISAP/!GEDPUBLICREPORTS.filter?ww_i_reportModel=133685247 200'"
      ]
     },
     "execution_count": 2,
     "metadata": {},
     "output_type": "execute_result"
    }
   ],
   "source": [
    "isaBaseUrl = 'http://isa.epfl.ch/imoniteur_ISAP/!GEDPUBLICREPORTS'\n",
    "isaFormUrl= isaBaseUrl + \".filter\"\n",
    "urlParams = {'ww_i_reportModel': '133685247'}\n",
    "r = requests.get(isaFormUrl, params=urlParams)\n",
    "r.url + \" \" + str(r.status_code)"
   ]
  },
  {
   "cell_type": "markdown",
   "metadata": {
    "collapsed": true
   },
   "source": [
    "We build a framework that will lets easily get a pandas Dataframe if we provide parameters we see on the isa webpage:\n",
    "\"Unité académique\", \"Période académique\", \"Période pédagogique\", \"Type de semestre\".\n",
    "\n",
    "To achieve it, we first implement a function that accepts as argument label of input from ISA webpage (for instance \"Unité académique\") and label of option (for instance \"Informatique\") and returns key-value pair that should be included in URL as GET parameter."
   ]
  },
  {
   "cell_type": "code",
   "execution_count": 3,
   "metadata": {
    "collapsed": false
   },
   "outputs": [
    {
     "data": {
      "text/plain": [
       "('ww_x_UNITE_ACAD', '249847')"
      ]
     },
     "execution_count": 3,
     "metadata": {},
     "output_type": "execute_result"
    }
   ],
   "source": [
    "soup = BeautifulSoup(r.text, 'html.parser')\n",
    "form = form = soup.find('form')\n",
    "\n",
    "def findSelectNameAndOptionValue(inputLabel, optionLabel):\n",
    "    th = form.find('th', string=inputLabel)\n",
    "    td = th.nextSibling\n",
    "    select = td.find('select')\n",
    "    option = select.find('option', string=optionLabel)\n",
    "    return (select['name'], option['value'])\n",
    "\n",
    "findSelectNameAndOptionValue(\"Unité académique\", \"Informatique\")"
   ]
  },
  {
   "cell_type": "markdown",
   "metadata": {},
   "source": [
    "Now we can build a function that generates all the parameters for GET request.\n",
    "For that, beside the parameters mentioned above, we have to put in the URL some fixed parameters which we learned by using POSTMAN.\n",
    "We decided to download data as HTML. This choice is encoded as fixed URL parameter too."
   ]
  },
  {
   "cell_type": "code",
   "execution_count": 4,
   "metadata": {
    "collapsed": false
   },
   "outputs": [
    {
     "data": {
      "text/plain": [
       "{'ww_i_reportModel': '133685247',\n",
       " 'ww_i_reportModelXsl': '133685270',\n",
       " 'ww_x_GPS': '-1',\n",
       " 'ww_x_HIVERETE': '2936286',\n",
       " 'ww_x_PERIODE_ACAD': '355925344',\n",
       " 'ww_x_PERIODE_PEDAGO': '249108',\n",
       " 'ww_x_UNITE_ACAD': '249847'}"
      ]
     },
     "execution_count": 4,
     "metadata": {},
     "output_type": "execute_result"
    }
   ],
   "source": [
    "def generateParams(humanReadableParams):\n",
    "    fixedParams = {\n",
    "        'ww_i_reportModel': '133685247',\n",
    "        'ww_i_reportModelXsl': '133685270',\n",
    "        'ww_x_GPS': '-1',\n",
    "    }\n",
    "    params = dict([findSelectNameAndOptionValue(x, y) for (x, y) in humanReadableParams.items()])\n",
    "    return {**fixedParams, **params}\n",
    "\n",
    "# Example\n",
    "exampleParams = {\n",
    "    \"Unité académique\": \"Informatique\",\n",
    "    \"Période académique\": \"2016-2017\",\n",
    "    \"Période pédagogique\": \"Bachelor semestre 1\",\n",
    "    \"Type de semestre\": \"Semestre d'automne\",\n",
    "}\n",
    "generateParams(exampleParams)"
   ]
  },
  {
   "cell_type": "markdown",
   "metadata": {},
   "source": [
    "The data for given Master stage and year comes as html table.\n",
    "For `Bachelor semestre`, `Master semestre`, `Projet Master` the structure of the table is always the same,\n",
    "so we can parse it with single function."
   ]
  },
  {
   "cell_type": "code",
   "execution_count": 5,
   "metadata": {
    "collapsed": false
   },
   "outputs": [],
   "source": [
    "def extractTable(html):\n",
    "    \"\"\"Extract the table from HTML into a pandas Dataframe.\"\"\"\n",
    "    BStable = BeautifulSoup(html, 'html.parser').find('table')\n",
    "    BSRows = BStable.findAll('tr')\n",
    "    # BSrows[0] is just the title of the table, so we ignore it.\n",
    "    headerBSRow = BSRows[1]\n",
    "    headers = [th.text for th in headerBSRow]\n",
    "    # We drop the last column, because it's always empty (originally it is used to make the HTML table look better).\n",
    "    rows = [[tr.text for tr in BSRow.findAll('td')[:-1]] for BSRow in BSRows[2:]]\n",
    "    return pd.DataFrame(data=rows, columns=headers)"
   ]
  },
  {
   "cell_type": "markdown",
   "metadata": {},
   "source": [
    "Now just generate the URL parameters, get HTML, parse it to dataFrame and you get a very nice function to scrape the data for given year and Master stage.\n",
    "\n",
    "Once again we will trick a little by using the source URL of the frame containg the table rather than URL of the whole ISA page (viva webconsole!)."
   ]
  },
  {
   "cell_type": "code",
   "execution_count": 7,
   "metadata": {
    "collapsed": false,
    "scrolled": true
   },
   "outputs": [
    {
     "data": {
      "text/html": [
       "<div>\n",
       "<table border=\"1\" class=\"dataframe\">\n",
       "  <thead>\n",
       "    <tr style=\"text-align: right;\">\n",
       "      <th></th>\n",
       "      <th>Civilité</th>\n",
       "      <th>Nom Prénom</th>\n",
       "      <th>Orientation Bachelor</th>\n",
       "      <th>Orientation Master</th>\n",
       "      <th>Spécialisation</th>\n",
       "      <th>Filière opt.</th>\n",
       "      <th>Mineur</th>\n",
       "      <th>Statut</th>\n",
       "      <th>Type Echange</th>\n",
       "      <th>Ecole Echange</th>\n",
       "      <th>No Sciper</th>\n",
       "    </tr>\n",
       "  </thead>\n",
       "  <tbody>\n",
       "    <tr>\n",
       "      <th>0</th>\n",
       "      <td>Monsieur</td>\n",
       "      <td>Abbey Alexandre</td>\n",
       "      <td></td>\n",
       "      <td></td>\n",
       "      <td></td>\n",
       "      <td></td>\n",
       "      <td></td>\n",
       "      <td>Présent</td>\n",
       "      <td></td>\n",
       "      <td></td>\n",
       "      <td>235688</td>\n",
       "    </tr>\n",
       "    <tr>\n",
       "      <th>1</th>\n",
       "      <td>Monsieur</td>\n",
       "      <td>Ahn Seongho</td>\n",
       "      <td></td>\n",
       "      <td></td>\n",
       "      <td></td>\n",
       "      <td></td>\n",
       "      <td></td>\n",
       "      <td>Présent</td>\n",
       "      <td></td>\n",
       "      <td></td>\n",
       "      <td>274015</td>\n",
       "    </tr>\n",
       "    <tr>\n",
       "      <th>2</th>\n",
       "      <td>Madame</td>\n",
       "      <td>Alemanno Sara</td>\n",
       "      <td></td>\n",
       "      <td></td>\n",
       "      <td></td>\n",
       "      <td></td>\n",
       "      <td></td>\n",
       "      <td>Présent</td>\n",
       "      <td></td>\n",
       "      <td></td>\n",
       "      <td>268410</td>\n",
       "    </tr>\n",
       "    <tr>\n",
       "      <th>3</th>\n",
       "      <td>Monsieur</td>\n",
       "      <td>Althaus Luca</td>\n",
       "      <td></td>\n",
       "      <td></td>\n",
       "      <td></td>\n",
       "      <td></td>\n",
       "      <td></td>\n",
       "      <td>Présent</td>\n",
       "      <td></td>\n",
       "      <td></td>\n",
       "      <td>271464</td>\n",
       "    </tr>\n",
       "    <tr>\n",
       "      <th>4</th>\n",
       "      <td>Monsieur</td>\n",
       "      <td>Assi Karim</td>\n",
       "      <td></td>\n",
       "      <td></td>\n",
       "      <td></td>\n",
       "      <td></td>\n",
       "      <td></td>\n",
       "      <td>Présent</td>\n",
       "      <td></td>\n",
       "      <td></td>\n",
       "      <td>274518</td>\n",
       "    </tr>\n",
       "  </tbody>\n",
       "</table>\n",
       "</div>"
      ],
      "text/plain": [
       "   Civilité       Nom Prénom Orientation Bachelor Orientation Master  \\\n",
       "0  Monsieur  Abbey Alexandre                                           \n",
       "1  Monsieur      Ahn Seongho                                           \n",
       "2    Madame    Alemanno Sara                                           \n",
       "3  Monsieur     Althaus Luca                                           \n",
       "4  Monsieur       Assi Karim                                           \n",
       "\n",
       "  Spécialisation Filière opt. Mineur   Statut Type Echange Ecole Echange  \\\n",
       "0                                     Présent                              \n",
       "1                                     Présent                              \n",
       "2                                     Présent                              \n",
       "3                                     Présent                              \n",
       "4                                     Présent                              \n",
       "\n",
       "  No Sciper  \n",
       "0    235688  \n",
       "1    274015  \n",
       "2    268410  \n",
       "3    271464  \n",
       "4    274518  "
      ]
     },
     "execution_count": 7,
     "metadata": {},
     "output_type": "execute_result"
    }
   ],
   "source": [
    " def getDataFrame(humanReadableParams):\n",
    "    isaDataUrl = isaBaseUrl + \".html\"\n",
    "    r = requests.get(isaDataUrl, params=generateParams(humanReadableParams))\n",
    "    return extractTable(r.text)\n",
    "\n",
    "getDataFrame({\n",
    "    \"Unité académique\": \"Informatique\",\n",
    "    \"Période académique\": \"2016-2017\",\n",
    "    \"Période pédagogique\": \"Bachelor semestre 1\",\n",
    "    \"Type de semestre\": \"Semestre d'automne\",\n",
    "}).head()"
   ]
  },
  {
   "cell_type": "markdown",
   "metadata": {},
   "source": [
    "Before actually downloading the data it's worth considering what we will need.\n",
    "By simply clicking things on ISA webpage we can note that data for `Projet Master` is really scarce.\n",
    "The same applies to `Master semestre 4`. Therefore we decided not to use it.\n",
    "\n",
    "We only want to estimate the time student spends at EPFL on regular studying (no Projet Master, no internship).\n",
    "Still, however, we hope to exclude the students who didn't graduate. How can we guess (approximately) if a student graduated?\n",
    "\n",
    "Well, we use 2 criteria:\n",
    "1. Every student should at least appear in `Master semestre 1` and `Master semestre 2`.\n",
    "2. If a student does a `Mineur` he should appear in `Master semestre 3` because it's too many ECTS to do in 2 semesters.\n",
    "\n",
    "These criteria will also exclude some students who started before 2007, but it only makes the sample smaller.\n",
    "\n",
    "Finally, the time spent at EPFL is calculated in semesters as the difference between chronogically first and last semesters (plus one) in which student was registered. This accounts for all weird orders in which a student could go through Master stages."
   ]
  },
  {
   "cell_type": "markdown",
   "metadata": {},
   "source": [
    "Some implementation details follow. Instead of remembering years and whether semester was in Fall or Spring, we simply order all semesters chronogically starting from 0.\n",
    "\n",
    "We download all the tables from ISA webpage. We save each table with metainformation about what Master stage (master 1, 2, 3) and which semester chronogically it describes."
   ]
  },
  {
   "cell_type": "code",
   "execution_count": 8,
   "metadata": {
    "collapsed": false
   },
   "outputs": [
    {
     "name": "stdout",
     "output_type": "stream",
     "text": [
      "Running... >> 2007 >> 2008 >> 2009 >> 2010 >> 2011 >> 2012 >> 2013 >> 2014 >> 2015 ...finished!\n"
     ]
    }
   ],
   "source": [
    "def getMasterData():\n",
    "    \"\"\"Get all needed Master data as list of tuples (semesterType, semesterNo, dataframe).\"\"\"\n",
    "    startYear = 2007\n",
    "    endYear = 2016\n",
    "    data = []\n",
    "    print(\"Running... \", end='')\n",
    "    for year in range (startYear, endYear):\n",
    "        period = \"{:d}-{:d}\".format(year, year + 1)\n",
    "        m1Params = {\n",
    "            \"Unité académique\": \"Informatique\",\n",
    "            \"Période académique\": period,\n",
    "            \"Période pédagogique\": \"Master semestre 1\",\n",
    "            \"Type de semestre\": \"Semestre d'automne\",\n",
    "        }\n",
    "        m2Params = {\n",
    "            \"Unité académique\": \"Informatique\",\n",
    "            \"Période académique\": period,\n",
    "            \"Période pédagogique\": \"Master semestre 2\",\n",
    "            \"Type de semestre\": \"Semestre de printemps\",\n",
    "        }\n",
    "        m3Params = {\n",
    "            \"Unité académique\": \"Informatique\",\n",
    "            \"Période académique\": period,\n",
    "            \"Période pédagogique\": \"Master semestre 3\",\n",
    "            \"Type de semestre\": \"Semestre d'automne\",\n",
    "        }\n",
    "        m1 = (1, (year - startYear) * 2    , getDataFrame(m1Params)) \n",
    "        m2 = (2, (year - startYear) * 2 + 1, getDataFrame(m2Params))\n",
    "        m3 = (3, (year - startYear) * 2    , getDataFrame(m3Params))\n",
    "        data.extend([m1, m2, m3])\n",
    "        print(\">> \" + str(year) + ' ', end='')\n",
    "    print(\"...finished!\")\n",
    "    return data\n",
    "        \n",
    "masterData = getMasterData()"
   ]
  },
  {
   "cell_type": "markdown",
   "metadata": {},
   "source": [
    "Let's check we have a sensible number of rows in every table and the same number of colums."
   ]
  },
  {
   "cell_type": "code",
   "execution_count": 9,
   "metadata": {
    "collapsed": false
   },
   "outputs": [
    {
     "data": {
      "text/plain": [
       "[(1, 0, (71, 11)),\n",
       " (2, 1, (87, 11)),\n",
       " (3, 0, (65, 11)),\n",
       " (1, 2, (60, 11)),\n",
       " (2, 3, (64, 11)),\n",
       " (3, 2, (48, 11)),\n",
       " (1, 4, (52, 11)),\n",
       " (2, 5, (62, 11)),\n",
       " (3, 4, (34, 11)),\n",
       " (1, 6, (96, 11)),\n",
       " (2, 7, (109, 11)),\n",
       " (3, 6, (40, 11)),\n",
       " (1, 8, (102, 11)),\n",
       " (2, 9, (123, 11)),\n",
       " (3, 8, (67, 11)),\n",
       " (1, 10, (88, 11)),\n",
       " (2, 11, (130, 11)),\n",
       " (3, 10, (87, 11)),\n",
       " (1, 12, (104, 11)),\n",
       " (2, 13, (138, 11)),\n",
       " (3, 12, (75, 11)),\n",
       " (1, 14, (104, 11)),\n",
       " (2, 15, (151, 11)),\n",
       " (3, 14, (81, 11)),\n",
       " (1, 16, (132, 11)),\n",
       " (2, 17, (196, 11)),\n",
       " (3, 16, (92, 11))]"
      ]
     },
     "execution_count": 9,
     "metadata": {},
     "output_type": "execute_result"
    }
   ],
   "source": [
    "def checkData(data):\n",
    "    return [(semType, semNo, dataFrame.shape) for (semType, semNo, dataFrame) in data]\n",
    "\n",
    "checkData(masterData)"
   ]
  },
  {
   "cell_type": "markdown",
   "metadata": {},
   "source": [
    "Yupi! It looks good. The funs begins right now.\n",
    "\n",
    "To stay focused and make further transformations easier we:\n",
    "1. keep only necessary data\n",
    "2. put metainformation itself into the DataFrame\n",
    "3. stack all DataFrames on top of each other into one DataFrame\n",
    "\n",
    "Overall the number of rows doesn't change. The structure of the dataframe is rather self-explaining. Note that for now there may be multiple multiple rows related to one student. We will deal with that in a moment."
   ]
  },
  {
   "cell_type": "code",
   "execution_count": 10,
   "metadata": {
    "collapsed": false
   },
   "outputs": [
    {
     "data": {
      "text/html": [
       "<div>\n",
       "<table border=\"1\" class=\"dataframe\">\n",
       "  <thead>\n",
       "    <tr style=\"text-align: right;\">\n",
       "      <th></th>\n",
       "      <th>No Sciper</th>\n",
       "      <th>Spécialisation</th>\n",
       "      <th>Mineur</th>\n",
       "      <th>master1</th>\n",
       "      <th>master2</th>\n",
       "      <th>master3</th>\n",
       "      <th>semNo</th>\n",
       "    </tr>\n",
       "  </thead>\n",
       "  <tbody>\n",
       "    <tr>\n",
       "      <th>40</th>\n",
       "      <td>223246</td>\n",
       "      <td></td>\n",
       "      <td>False</td>\n",
       "      <td>False</td>\n",
       "      <td>False</td>\n",
       "      <td>True</td>\n",
       "      <td>14</td>\n",
       "    </tr>\n",
       "    <tr>\n",
       "      <th>8</th>\n",
       "      <td>170218</td>\n",
       "      <td></td>\n",
       "      <td>False</td>\n",
       "      <td>False</td>\n",
       "      <td>False</td>\n",
       "      <td>True</td>\n",
       "      <td>6</td>\n",
       "    </tr>\n",
       "    <tr>\n",
       "      <th>122</th>\n",
       "      <td>195899</td>\n",
       "      <td></td>\n",
       "      <td>False</td>\n",
       "      <td>False</td>\n",
       "      <td>True</td>\n",
       "      <td>False</td>\n",
       "      <td>15</td>\n",
       "    </tr>\n",
       "    <tr>\n",
       "      <th>0</th>\n",
       "      <td>170220</td>\n",
       "      <td></td>\n",
       "      <td>True</td>\n",
       "      <td>True</td>\n",
       "      <td>False</td>\n",
       "      <td>False</td>\n",
       "      <td>4</td>\n",
       "    </tr>\n",
       "    <tr>\n",
       "      <th>10</th>\n",
       "      <td>211148</td>\n",
       "      <td></td>\n",
       "      <td>False</td>\n",
       "      <td>True</td>\n",
       "      <td>False</td>\n",
       "      <td>False</td>\n",
       "      <td>8</td>\n",
       "    </tr>\n",
       "  </tbody>\n",
       "</table>\n",
       "</div>"
      ],
      "text/plain": [
       "    No Sciper Spécialisation Mineur master1 master2 master3  semNo\n",
       "40     223246                 False   False   False    True     14\n",
       "8      170218                 False   False   False    True      6\n",
       "122    195899                 False   False    True   False     15\n",
       "0      170220                  True    True   False   False      4\n",
       "10     211148                 False    True   False   False      8"
      ]
     },
     "execution_count": 10,
     "metadata": {},
     "output_type": "execute_result"
    }
   ],
   "source": [
    "def prepare(triple):\n",
    "    (semType, semNo, dataFrame) = triple\n",
    "    df = dataFrame[['No Sciper', 'Spécialisation']].copy()\n",
    "    df['Mineur'] = dataFrame['Mineur'] != ''\n",
    "    df['master1'] = semType == 1\n",
    "    df['master2'] = semType == 2\n",
    "    df['master3'] = semType == 3\n",
    "    df['semNo'] = semNo\n",
    "    return df\n",
    "\n",
    "concatedData = pd.concat(map(prepare, masterData))\n",
    "concatedData.sample(5)"
   ]
  },
  {
   "cell_type": "markdown",
   "metadata": {},
   "source": [
    "We aggregate the data for each student in order to know whether he ever was in master 1, 2, 3 or had a Mineur and last but not least how long he was at EPFL (see column `semNo`).\n",
    "\n",
    "We'll treat the Specialisations individually, because as it happens some students may have more than one."
   ]
  },
  {
   "cell_type": "code",
   "execution_count": 11,
   "metadata": {
    "collapsed": false
   },
   "outputs": [
    {
     "data": {
      "text/html": [
       "<div>\n",
       "<table border=\"1\" class=\"dataframe\">\n",
       "  <thead>\n",
       "    <tr style=\"text-align: right;\">\n",
       "      <th></th>\n",
       "      <th>No Sciper</th>\n",
       "      <th>master2</th>\n",
       "      <th>semNo</th>\n",
       "      <th>Mineur</th>\n",
       "      <th>master1</th>\n",
       "      <th>master3</th>\n",
       "    </tr>\n",
       "  </thead>\n",
       "  <tbody>\n",
       "    <tr>\n",
       "      <th>0</th>\n",
       "      <td>128911</td>\n",
       "      <td>True</td>\n",
       "      <td>2</td>\n",
       "      <td>False</td>\n",
       "      <td>False</td>\n",
       "      <td>True</td>\n",
       "    </tr>\n",
       "    <tr>\n",
       "      <th>1</th>\n",
       "      <td>129093</td>\n",
       "      <td>True</td>\n",
       "      <td>2</td>\n",
       "      <td>False</td>\n",
       "      <td>False</td>\n",
       "      <td>True</td>\n",
       "    </tr>\n",
       "    <tr>\n",
       "      <th>2</th>\n",
       "      <td>129326</td>\n",
       "      <td>True</td>\n",
       "      <td>2</td>\n",
       "      <td>False</td>\n",
       "      <td>False</td>\n",
       "      <td>True</td>\n",
       "    </tr>\n",
       "    <tr>\n",
       "      <th>3</th>\n",
       "      <td>138088</td>\n",
       "      <td>False</td>\n",
       "      <td>1</td>\n",
       "      <td>False</td>\n",
       "      <td>True</td>\n",
       "      <td>False</td>\n",
       "    </tr>\n",
       "    <tr>\n",
       "      <th>4</th>\n",
       "      <td>145546</td>\n",
       "      <td>False</td>\n",
       "      <td>1</td>\n",
       "      <td>False</td>\n",
       "      <td>False</td>\n",
       "      <td>True</td>\n",
       "    </tr>\n",
       "  </tbody>\n",
       "</table>\n",
       "</div>"
      ],
      "text/plain": [
       "  No Sciper master2  semNo Mineur master1 master3\n",
       "0    128911    True      2  False   False    True\n",
       "1    129093    True      2  False   False    True\n",
       "2    129326    True      2  False   False    True\n",
       "3    138088   False      1  False    True   False\n",
       "4    145546   False      1  False   False    True"
      ]
     },
     "execution_count": 11,
     "metadata": {},
     "output_type": "execute_result"
    }
   ],
   "source": [
    "def aggregateData(data):\n",
    "    neededData = data[['No Sciper', 'Mineur', 'master1', 'master2', 'master3', 'semNo']]\n",
    "    aggregations = {\n",
    "        'Mineur': 'any',\n",
    "        'master1': 'any',\n",
    "        'master2': 'any',\n",
    "        'master3': 'any',\n",
    "        'semNo': lambda x: max(x) - min(x) + 1\n",
    "    }\n",
    "    return data.groupby(['No Sciper'], as_index=False).agg(aggregations)\n",
    "studentsData = aggregateData(concatedData)\n",
    "studentsData.head()"
   ]
  },
  {
   "cell_type": "markdown",
   "metadata": {},
   "source": [
    "By now we have enough information to choose \"good\" students; ie ones who (probably) graduated."
   ]
  },
  {
   "cell_type": "code",
   "execution_count": 12,
   "metadata": {
    "collapsed": false
   },
   "outputs": [
    {
     "name": "stdout",
     "output_type": "stream",
     "text": [
      "743\n"
     ]
    },
    {
     "data": {
      "text/html": [
       "<div>\n",
       "<table border=\"1\" class=\"dataframe\">\n",
       "  <thead>\n",
       "    <tr style=\"text-align: right;\">\n",
       "      <th></th>\n",
       "      <th>No Sciper</th>\n",
       "      <th>semNo</th>\n",
       "    </tr>\n",
       "  </thead>\n",
       "  <tbody>\n",
       "    <tr>\n",
       "      <th>0</th>\n",
       "      <td>146330</td>\n",
       "      <td>3</td>\n",
       "    </tr>\n",
       "    <tr>\n",
       "      <th>1</th>\n",
       "      <td>146742</td>\n",
       "      <td>9</td>\n",
       "    </tr>\n",
       "    <tr>\n",
       "      <th>2</th>\n",
       "      <td>146929</td>\n",
       "      <td>2</td>\n",
       "    </tr>\n",
       "    <tr>\n",
       "      <th>3</th>\n",
       "      <td>147008</td>\n",
       "      <td>4</td>\n",
       "    </tr>\n",
       "    <tr>\n",
       "      <th>4</th>\n",
       "      <td>152232</td>\n",
       "      <td>3</td>\n",
       "    </tr>\n",
       "  </tbody>\n",
       "</table>\n",
       "</div>"
      ],
      "text/plain": [
       "  No Sciper  semNo\n",
       "0    146330      3\n",
       "1    146742      9\n",
       "2    146929      2\n",
       "3    147008      4\n",
       "4    152232      3"
      ]
     },
     "execution_count": 12,
     "metadata": {},
     "output_type": "execute_result"
    }
   ],
   "source": [
    "goodStudents = studentsData \\\n",
    "    .query('master1 and master2 and (master3 or not Mineur)') \\\n",
    "    [['No Sciper', 'semNo']] \\\n",
    "    .reset_index(drop=True)\n",
    "    \n",
    "print(len(goodStudents))\n",
    "goodStudents.head()"
   ]
  },
  {
   "cell_type": "markdown",
   "metadata": {},
   "source": [
    "Time to grab the specialisations. Let's see what you can choose at EPFL."
   ]
  },
  {
   "cell_type": "code",
   "execution_count": 13,
   "metadata": {
    "collapsed": false
   },
   "outputs": [
    {
     "data": {
      "text/plain": [
       "['Internet computing',\n",
       " 'Foundations of Software',\n",
       " 'Biocomputing',\n",
       " 'Signals, Images and Interfaces',\n",
       " 'Computer Engineering - SP',\n",
       " 'Service science',\n",
       " 'Software Systems',\n",
       " 'Information Security - SP',\n",
       " 'Data Analytics',\n",
       " 'Internet Information Systems',\n",
       " 'Computer Science Theory']"
      ]
     },
     "execution_count": 13,
     "metadata": {},
     "output_type": "execute_result"
    }
   ],
   "source": [
    "specials = concatedData \\\n",
    "    .query(\"Spécialisation != ''\") \\\n",
    "    ['Spécialisation'] \\\n",
    "    .unique().tolist()\n",
    "specials"
   ]
  },
  {
   "cell_type": "markdown",
   "metadata": {},
   "source": [
    "We implement a function returning students (and their stay at EPFL) for a specific specialisation."
   ]
  },
  {
   "cell_type": "code",
   "execution_count": 14,
   "metadata": {
    "collapsed": false
   },
   "outputs": [
    {
     "name": "stdout",
     "output_type": "stream",
     "text": [
      "4\n"
     ]
    },
    {
     "data": {
      "text/html": [
       "<div>\n",
       "<table border=\"1\" class=\"dataframe\">\n",
       "  <thead>\n",
       "    <tr style=\"text-align: right;\">\n",
       "      <th></th>\n",
       "      <th>No Sciper</th>\n",
       "      <th>semNo</th>\n",
       "    </tr>\n",
       "  </thead>\n",
       "  <tbody>\n",
       "    <tr>\n",
       "      <th>0</th>\n",
       "      <td>172611</td>\n",
       "      <td>3</td>\n",
       "    </tr>\n",
       "    <tr>\n",
       "      <th>1</th>\n",
       "      <td>154573</td>\n",
       "      <td>5</td>\n",
       "    </tr>\n",
       "    <tr>\n",
       "      <th>2</th>\n",
       "      <td>169734</td>\n",
       "      <td>5</td>\n",
       "    </tr>\n",
       "    <tr>\n",
       "      <th>3</th>\n",
       "      <td>183185</td>\n",
       "      <td>3</td>\n",
       "    </tr>\n",
       "  </tbody>\n",
       "</table>\n",
       "</div>"
      ],
      "text/plain": [
       "  No Sciper  semNo\n",
       "0    172611      3\n",
       "1    154573      5\n",
       "2    169734      5\n",
       "3    183185      3"
      ]
     },
     "execution_count": 14,
     "metadata": {},
     "output_type": "execute_result"
    }
   ],
   "source": [
    "def findSpecialStudents(special):\n",
    "    specialScipers = concatedData \\\n",
    "        .query(\"Spécialisation == @special\") \\\n",
    "        [['No Sciper']] \\\n",
    "        .drop_duplicates() \\\n",
    "        .reset_index(drop=True)\n",
    "    return specialScipers.merge(goodStudents, on='No Sciper')\n",
    "\n",
    "specialStudents = {spec: findSpecialStudents(spec) for spec in specials}\n",
    "\n",
    "print(len(specialStudents['Biocomputing']))\n",
    "specialStudents['Biocomputing']"
   ]
  },
  {
   "cell_type": "markdown",
   "metadata": {},
   "source": [
    "We've prepared our tools and we are ready to calculate the final results."
   ]
  },
  {
   "cell_type": "markdown",
   "metadata": {},
   "source": [
    "#### Average time spent at EPFL in semesters"
   ]
  },
  {
   "cell_type": "code",
   "execution_count": 15,
   "metadata": {
    "collapsed": false
   },
   "outputs": [
    {
     "name": "stdout",
     "output_type": "stream",
     "text": [
      ">> All students <<\n",
      "Mean in semesters: 3.107672\n",
      "Number of students: 743\n"
     ]
    }
   ],
   "source": [
    "print(\">> All students <<\")\n",
    "globalMean = goodStudents['semNo'].mean()\n",
    "print(\"Mean in semesters: {:f}\".format(globalMean))\n",
    "print(\"Number of students: {:d}\".format(len(goodStudents)))"
   ]
  },
  {
   "cell_type": "code",
   "execution_count": 16,
   "metadata": {
    "collapsed": false
   },
   "outputs": [
    {
     "data": {
      "text/html": [
       "<div>\n",
       "<table border=\"1\" class=\"dataframe\">\n",
       "  <thead>\n",
       "    <tr style=\"text-align: right;\">\n",
       "      <th></th>\n",
       "      <th>Mean in semesters</th>\n",
       "      <th>Number of students</th>\n",
       "      <th>Spécialisation</th>\n",
       "    </tr>\n",
       "  </thead>\n",
       "  <tbody>\n",
       "    <tr>\n",
       "      <th>0</th>\n",
       "      <td>3.725806</td>\n",
       "      <td>62</td>\n",
       "      <td>Foundations of Software</td>\n",
       "    </tr>\n",
       "    <tr>\n",
       "      <th>1</th>\n",
       "      <td>3.600000</td>\n",
       "      <td>5</td>\n",
       "      <td>Service science</td>\n",
       "    </tr>\n",
       "    <tr>\n",
       "      <th>2</th>\n",
       "      <td>2.941176</td>\n",
       "      <td>17</td>\n",
       "      <td>Software Systems</td>\n",
       "    </tr>\n",
       "    <tr>\n",
       "      <th>3</th>\n",
       "      <td>2.000000</td>\n",
       "      <td>1</td>\n",
       "      <td>Internet Information Systems</td>\n",
       "    </tr>\n",
       "    <tr>\n",
       "      <th>4</th>\n",
       "      <td>3.623656</td>\n",
       "      <td>93</td>\n",
       "      <td>Internet computing</td>\n",
       "    </tr>\n",
       "    <tr>\n",
       "      <th>5</th>\n",
       "      <td>3.300000</td>\n",
       "      <td>20</td>\n",
       "      <td>Computer Engineering - SP</td>\n",
       "    </tr>\n",
       "    <tr>\n",
       "      <th>6</th>\n",
       "      <td>2.000000</td>\n",
       "      <td>4</td>\n",
       "      <td>Data Analytics</td>\n",
       "    </tr>\n",
       "    <tr>\n",
       "      <th>7</th>\n",
       "      <td>4.000000</td>\n",
       "      <td>4</td>\n",
       "      <td>Biocomputing</td>\n",
       "    </tr>\n",
       "    <tr>\n",
       "      <th>8</th>\n",
       "      <td>4.000000</td>\n",
       "      <td>31</td>\n",
       "      <td>Signals, Images and Interfaces</td>\n",
       "    </tr>\n",
       "    <tr>\n",
       "      <th>9</th>\n",
       "      <td>2.571429</td>\n",
       "      <td>7</td>\n",
       "      <td>Information Security - SP</td>\n",
       "    </tr>\n",
       "    <tr>\n",
       "      <th>10</th>\n",
       "      <td>2.000000</td>\n",
       "      <td>1</td>\n",
       "      <td>Computer Science Theory</td>\n",
       "    </tr>\n",
       "  </tbody>\n",
       "</table>\n",
       "</div>"
      ],
      "text/plain": [
       "    Mean in semesters  Number of students                  Spécialisation\n",
       "0            3.725806                  62         Foundations of Software\n",
       "1            3.600000                   5                 Service science\n",
       "2            2.941176                  17                Software Systems\n",
       "3            2.000000                   1    Internet Information Systems\n",
       "4            3.623656                  93              Internet computing\n",
       "5            3.300000                  20       Computer Engineering - SP\n",
       "6            2.000000                   4                  Data Analytics\n",
       "7            4.000000                   4                    Biocomputing\n",
       "8            4.000000                  31  Signals, Images and Interfaces\n",
       "9            2.571429                   7       Information Security - SP\n",
       "10           2.000000                   1         Computer Science Theory"
      ]
     },
     "execution_count": 16,
     "metadata": {},
     "output_type": "execute_result"
    }
   ],
   "source": [
    "means = [df['semNo'].mean() for df in specialStudents.values()]\n",
    "studentNums = [len(df) for df in specialStudents.values()]\n",
    "\n",
    "pd.DataFrame({\n",
    "    'Spécialisation': list(specialStudents.keys()),\n",
    "    'Mean in semesters': means,\n",
    "    'Number of students': studentNums,\n",
    "    })"
   ]
  },
  {
   "cell_type": "markdown",
   "metadata": {},
   "source": [
    "We shouldn't treat the Spécialisations with 1 person seriously."
   ]
  },
  {
   "cell_type": "code",
   "execution_count": 17,
   "metadata": {
    "collapsed": true
   },
   "outputs": [],
   "source": [
    "del specialStudents['Internet Information Systems']\n",
    "del specialStudents['Computer Science Theory']"
   ]
  },
  {
   "cell_type": "code",
   "execution_count": 18,
   "metadata": {
    "collapsed": false
   },
   "outputs": [
    {
     "data": {
      "image/png": "[encoded data removed]",
      "text/plain": [
       "<matplotlib.figure.Figure at 0x11b39bda0>"
      ]
     },
     "metadata": {},
     "output_type": "display_data"
    }
   ],
   "source": [
    "pairs = [(df['semNo'].mean(), spec) for (spec, df) in specialStudents.items()]\n",
    "pairs.sort()\n",
    "sortedMeans, sortedSpecs = zip(*pairs)\n",
    "\n",
    "pylab.figure(1)\n",
    "x = range(len(specialStudents))\n",
    "pylab.xticks(x, sortedSpecs, rotation='vertical')\n",
    "pylab.ylabel(\"Average stay at EPFL in semesters\")\n",
    "pylab.bar(x, sortedMeans, align='center', alpha=0.5)\n",
    "pylab.axhline(globalMean, color='r', linewidth=2, linestyle='dashed')\n",
    "pylab.show()"
   ]
  },
  {
   "cell_type": "markdown",
   "metadata": {},
   "source": [
    "#### Is the average time spent at EPFL significantly different for students with a particular specialisation?"
   ]
  },
  {
   "cell_type": "markdown",
   "metadata": {},
   "source": [
    "We use 2-sample t-test, because it checks if two populations have the same average.\n",
    "The populations should have empty intersection, so we compare students from each specialisation with all the __other__ students."
   ]
  },
  {
   "cell_type": "code",
   "execution_count": 19,
   "metadata": {
    "collapsed": false
   },
   "outputs": [
    {
     "name": "stdout",
     "output_type": "stream",
     "text": [
      "The average stay at EPFL is significantly different for\n"
     ]
    },
    {
     "data": {
      "text/plain": [
       "['Foundations of Software',\n",
       " 'Internet computing',\n",
       " 'Data Analytics',\n",
       " 'Signals, Images and Interfaces']"
      ]
     },
     "execution_count": 19,
     "metadata": {},
     "output_type": "execute_result"
    }
   ],
   "source": [
    "def pvalue(spec):\n",
    "    chosenStudents = specialStudents[spec]\n",
    "    indexes = goodStudents['No Sciper'].isin(chosenStudents['No Sciper'])\n",
    "    otherStudents = goodStudents[~indexes]\n",
    "    return scipy.stats.ttest_ind(\n",
    "        a=chosenStudents['semNo'],\n",
    "        b=otherStudents['semNo'],\n",
    "        equal_var=False).pvalue\n",
    "\n",
    "result = [spec for spec in list(specialStudents.keys()) if pvalue(spec) <= 0.05]\n",
    "print(\"The average stay at EPFL is significantly different for\")\n",
    "result"
   ]
  },
  {
   "cell_type": "markdown",
   "metadata": {},
   "source": [
    "Please take `Data Analytics` with a pinch of salt. Four people is a huge sample..."
   ]
  }
 ],
 "metadata": {
  "anaconda-cloud": {},
  "kernelspec": {
   "display_name": "Python [default]",
   "language": "python",
   "name": "python3"
  },
  "language_info": {
   "codemirror_mode": {
    "name": "ipython",
    "version": 3
   },
   "file_extension": ".py",
   "mimetype": "text/x-python",
   "name": "python",
   "nbconvert_exporter": "python",
   "pygments_lexer": "ipython3",
   "version": "3.5.2"
  }
 },
 "nbformat": 4,
 "nbformat_minor": 1
}
