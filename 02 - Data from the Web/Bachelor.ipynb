{
 "cells": [
  {
   "cell_type": "markdown",
   "metadata": {},
   "source": [
    "# 02 - Data from the Web"
   ]
  },
  {
   "cell_type": "markdown",
   "metadata": {},
   "source": [
    "We start importing all the libraries that we are going to use."
   ]
  },
  {
   "cell_type": "code",
   "execution_count": 1,
   "metadata": {
    "collapsed": false
   },
   "outputs": [],
   "source": [
    "import math\n",
    "import pandas as pd\n",
    "import numpy as np\n",
    "import requests\n",
    "import scipy.stats as norm\n",
    "import matplotlib.pyplot as plt\n",
    "from scipy import stats\n",
    "from bs4 import BeautifulSoup \n"
   ]
  },
  {
   "cell_type": "markdown",
   "metadata": {},
   "source": [
    "Now we will generate the base of our futures requests"
   ]
  },
  {
   "cell_type": "code",
   "execution_count": 2,
   "metadata": {
    "collapsed": false
   },
   "outputs": [],
   "source": [
    "payloadform = {'ww_i_reportModel': '133685247'}\n",
    "# The base of the url that we will use always\n",
    "isa_baseurl = 'http://isa.epfl.ch/imoniteur_ISAP/!GEDPUBLICREPORTS'\n",
    "# We generate the form url\n",
    "isa_formurl= isa_baseurl + \".filter\"\n",
    "# We make the request to isacademis to obtain the form\n",
    "r = requests.get(isa_formurl, params=payloadform)\n",
    "# We check what we the url and the response of the server\n",
    "s = r.url + \" \" + str(r.status_code)\n"
   ]
  },
  {
   "cell_type": "markdown",
   "metadata": {},
   "source": [
    "In the next steps, we will parse the HTML of the form. Here we see the main idea of how we will do it. We are doing this to facilitate the future \"get\" petitions"
   ]
  },
  {
   "cell_type": "code",
   "execution_count": 3,
   "metadata": {
    "collapsed": false
   },
   "outputs": [
    {
     "name": "stdout",
     "output_type": "stream",
     "text": [
      "zz_x_UNITE_ACAD\n",
      "['2016-2017']\n"
     ]
    },
    {
     "data": {
      "text/plain": [
       "'Informatique'"
      ]
     },
     "execution_count": 3,
     "metadata": {},
     "output_type": "execute_result"
    }
   ],
   "source": [
    "soup = BeautifulSoup(r.text, 'html.parser')\n",
    "inputs = soup.select('form input') # eWe extract the inputs from the form \n",
    "print(inputs[5]['name'])\n",
    "tags=inputs[6].select('option') # extraemos las posibles opcicones \n",
    "print(tags[1].contents) \n",
    "inputs[5].select('option')[9].contents[0] "
   ]
  },
  {
   "cell_type": "markdown",
   "metadata": {},
   "source": [
    "We prepare a new payload (the params of the get petition) structure.\n"
   ]
  },
  {
   "cell_type": "code",
   "execution_count": 4,
   "metadata": {
    "collapsed": false
   },
   "outputs": [],
   "source": [
    "# Model of the params of the request\n",
    "payloadfix = {'ww_x_GPS': '-1', 'ww_i_reportModel': '133685247', 'ww_i_reportModelXsl': '133685270', 'ww_x_UNITE_ACAD': '','ww_x_PERIODE_ACAD': '', 'ww_x_PERIODE_PEDAGO': '','ww_x_HIVERETE': '' }\n",
    "# New url, for getting the table with the data.\n",
    "isa_dataurl = isa_baseurl + \".html\"\n",
    "payloadfix['ww_x_UNITE_ACAD'] = inputs[5].select('option')[9]['value']\n",
    "\n"
   ]
  },
  {
   "cell_type": "markdown",
   "metadata": {},
   "source": [
    "We create a function that download the data form the isacademia and parse it, returning a DataFrame."
   ]
  },
  {
   "cell_type": "code",
   "execution_count": 5,
   "metadata": {
    "collapsed": false,
    "scrolled": false
   },
   "outputs": [],
   "source": [
    "# Here we will need to parse the html using BeautifulSoup library.\n",
    "# The data that we want comes in a html table, won't be really hard to parse it.\n",
    "\n",
    "\n",
    "def extractTable(year,sem):\n",
    "    payloadfix['ww_x_PERIODE_ACAD'] = inputs[6].select('option')[year]['value']\n",
    "    payloadfix['ww_x_PERIODE_PEDAGO'] = inputs[7].select('option')[sem]['value']#[7]==bach6\n",
    "    if(sem==1):\n",
    "        payloadfix['ww_x_HIVERETE'] = inputs[8].select('option')[1]['value']\n",
    "    else:\n",
    "        payloadfix['ww_x_HIVERETE'] = inputs[8].select('option')[2]['value']\n",
    "    \n",
    "    r = requests.get(isa_dataurl, params=payloadfix)\n",
    "    Data = BeautifulSoup(r.text, 'html.parser') \n",
    "    \"\"\"Extract the table from HTML into a pandas Dataframe.\"\"\"\n",
    "    BStable = BeautifulSoup(r.text, 'html.parser').find('table')\n",
    "    \n",
    "    BSRows = BStable.findAll('tr')\n",
    "    # BSrows[0] is just the title of the table, so we ignore it.\n",
    "    headerBSRow = BSRows[1]\n",
    "    headers = [th.string for th in headerBSRow]\n",
    "    # We drop the last column, because it's always empty (originally it is used to make the HTML table look better).\n",
    "    rows = [[tr.string for tr in BSRow.findAll('td')[:-1]] for BSRow in BSRows[2:]]\n",
    "    # return pd.DataFrame(data=rows, columns=headers)[headers[-1]]\n",
    "    return pd.DataFrame(data=rows, columns=headers)\n"
   ]
  },
  {
   "cell_type": "markdown",
   "metadata": {},
   "source": [
    "In this next step we will use de above function to download all the bachelor data and count how many students finished the bachelor, checking which ones are female and \n",
    "males. "
   ]
  },
  {
   "cell_type": "code",
   "execution_count": 6,
   "metadata": {
    "collapsed": false
   },
   "outputs": [
    {
     "name": "stdout",
     "output_type": "stream",
     "text": [
      "males enrolled to bachelor1:  1252 \n",
      "males enrolled to bach1 per sem:  [[0, 86], [1, 75], [2, 88], [3, 106], [4, 110], [5, 144], [6, 147], [7, 156], [8, 134], [9, 206]]\n",
      "females enrolled to bachelor1:  133 \n",
      "females enrolled to bach1 per sem:  [[0, 4], [1, 7], [2, 9], [3, 10], [4, 13], [5, 9], [6, 16], [7, 14], [8, 21], [9, 30]]\n",
      "males enrolled to bachelor6:  621 \n",
      "males enrolled to bach6 per sem:  [[0, 35], [1, 49], [2, 56], [3, 48], [4, 49], [5, 78], [6, 79], [7, 110], [8, 95], [9, 22]]\n",
      "females enrolled to bachelor6:  43 \n",
      "females enrolled to bach6 per sem:  [[0, 3], [1, 2], [2, 4], [3, 4], [4, 3], [5, 3], [6, 7], [7, 6], [8, 9], [9, 2]]\n",
      "ending df\n"
     ]
    }
   ],
   "source": [
    "year=10\n",
    "semester=1\n",
    "data=[]\n",
    "gender_beg=[]\n",
    "gender_end=[]\n",
    "i=0\n",
    "while(year>0):\n",
    "    course=extractTable(year,semester)\n",
    "    course_aux=course['No Sciper']\n",
    "    course_aux.name=str(i)\n",
    "    data.append(course_aux)\n",
    "    course_aux=course['Civilité']\n",
    "    course_aux.name=str(i)\n",
    "    if(semester==1):\n",
    "        gender_beg.append(course_aux)\n",
    "        semester=7\n",
    "    else:\n",
    "        gender_end.append(course_aux)\n",
    "        year-=1\n",
    "        semester=1\n",
    "    i+=1\n",
    "n=0\n",
    "#remove last two years\n",
    "df_beg={}\n",
    "df_end={}\n",
    "total_enrollments=0\n",
    "index=0\n",
    "for i in data:\n",
    "    if(index%2==0):\n",
    "        if(index/2>8):\n",
    "            index+=1\n",
    "            continue\n",
    "        df_beg[str(int(index/2))]=i\n",
    "        total_enrollments+=len(i)\n",
    "    else:\n",
    "        df_end[str(int((index+1)/2-1))]=i\n",
    "    index+=1\n",
    "index=0#i current semester[0..7]\n",
    "index2=1#j next semester[1..7] for bachelor1\n",
    "\n",
    "#NOTE: we know all the students can enroll to the bach1, and then pass to the 2nd bach or not.\n",
    "#and you're supposed to enroll to the same bachelor the year after\n",
    "#but failing on the bach1 does not imply that someone's gonna enroll to the next year.\n",
    "#you can enroll two years after failing too if you're a mess, your money's always welcome.\n",
    "#so, it's the same as passing, but we can't figured out if you really pass.Just knowing your last enrollment.\n",
    "#we should check the master1 instead of bach6 but it's out of context\n",
    "while(index<len(df_beg)-1):\n",
    "    while(index2<len(df_beg)):\n",
    "#         print('index2:',index2,'\\tlen(gender[index]):',len(gender_beg[index2]))\n",
    "        for i in df_beg[str(index2)].values:\n",
    "            if i in df_beg[str(index)].values:\n",
    "#                print(i)\n",
    "                found=df_beg[str(index2)][df_beg[str(index2)]==i] #give us the subserie found\n",
    "                found=found.index[0]#get index from serie\n",
    "                gender_beg[index2]=gender_beg[index2].drop(found)\n",
    "                df_beg[str(index2)]=df_beg[str(index2)].drop(found)#drop repeated student(he was enrolled the previous year)\n",
    "        index2+=1\n",
    "    index+=1\n",
    "    index2=index+1\n",
    "#fetch all the females/males enrolled to bach1\n",
    "males_beg=[]\n",
    "males_aux=0\n",
    "females_beg=[]\n",
    "females_aux=0\n",
    "males_tot_beg=0\n",
    "females_tot_beg=0\n",
    "i=0\n",
    "while(i<len(gender_beg)):\n",
    "    for j in gender_beg[i].values:\n",
    "        if(j=='Monsieur'):\n",
    "            males_aux+=1\n",
    "        elif(j=='Madame'):\n",
    "            females_aux+=1\n",
    "    males_beg.append([i,males_aux])\n",
    "    females_beg.append([i,females_aux])\n",
    "    males_tot_beg+=males_aux\n",
    "    females_tot_beg+=females_aux\n",
    "    males_aux=0\n",
    "    females_aux=0\n",
    "    i+=1\n",
    "print('males enrolled to bachelor1: ',males_tot_beg,'\\nmales enrolled to bach1 per sem: ',males_beg)\n",
    "print('females enrolled to bachelor1: ',females_tot_beg,'\\nfemales enrolled to bach1 per sem: ',females_beg)\n",
    "\n",
    "\n",
    "#fetch all the females/males enrolled to bach6\n",
    "males_end=[]\n",
    "males_aux=0\n",
    "females_end=[]\n",
    "females_aux=0\n",
    "males_tot_end=0\n",
    "females_tot_end=0\n",
    "i=0\n",
    "while(i<len(gender_end)):\n",
    "    for j in gender_end[i].values:\n",
    "        if(j=='Monsieur'):\n",
    "            males_aux+=1\n",
    "        elif(j=='Madame'):\n",
    "            females_aux+=1\n",
    "    males_end.append([i,males_aux])\n",
    "    females_end.append([i,females_aux])\n",
    "    males_tot_end+=males_aux\n",
    "    females_tot_end+=females_aux\n",
    "    males_aux=0\n",
    "    females_aux=0\n",
    "#     j=0\n",
    "    i+=1\n",
    "print('males enrolled to bachelor6: ',males_tot_end,'\\nmales enrolled to bach6 per sem: ',males_end)\n",
    "print('females enrolled to bachelor6: ',females_tot_end,'\\nfemales enrolled to bach6 per sem: ',females_end)\n",
    "\n",
    "df_beg=pd.DataFrame(df_beg)\n",
    "df_end=pd.DataFrame(df_end)\n",
    "print('ending df')"
   ]
  },
  {
   "cell_type": "markdown",
   "metadata": {},
   "source": [
    "In this second itereation we extract all the important information for the DataForm we got before. With this information we will be able to answer the question of the exercise."
   ]
  },
  {
   "cell_type": "code",
   "execution_count": 7,
   "metadata": {
    "collapsed": false
   },
   "outputs": [
    {
     "name": "stdout",
     "output_type": "stream",
     "text": [
      "TOTAL ENROLLMENTS: 1484 TOTAL_PASSED: 508\n",
      "TOTAL ENROLLMENTS(men+women) 3 years [[0, 2, 37], [1, 3, 35], [2, 4, 31], [3, 5, 46], [4, 6, 42], [5, 7, 68], [6, 8, 47], [7, 9, 21]]\n",
      "TOTAL ENROLLMENTS(men+women) 4 years [[0, 3, 13], [1, 4, 15], [2, 5, 21], [3, 6, 23], [4, 7, 28], [5, 8, 33], [6, 9, 1]]\n",
      "TOTAL ENROLLMENTS(men+women) 5 years [[0, 4, 2], [1, 5, 6], [2, 6, 12], [3, 7, 6], [4, 8, 13], [5, 9, 1]]\n",
      "TOTAL ENROLLMENTS(men+women) 6 years [[0, 5, 1], [1, 6, 1], [2, 7, 3], [3, 8, 1], [4, 9, 0]]\n"
     ]
    }
   ],
   "source": [
    "\n",
    "index=0#for bachelor1 dataframe\n",
    "index2=2#for bachelor6 dataframe\n",
    "#while(index<len(df_beg) and index2<len(df_end)):\n",
    "#print(type(df_beg[str(index)]))\n",
    "three_aux=0\n",
    "three_males_aux=0\n",
    "three_females_aux=0\n",
    "three_males_tot=0\n",
    "three_females_tot=0\n",
    "three_yrs_tot=0\n",
    "three_yrs_males=[]\n",
    "three_yrs_females=[]\n",
    "three_yrs=[]#we're gonna fetch (beginyear,endyear,total)\n",
    "four_aux=0\n",
    "four_males_aux=0\n",
    "four_females_aux=0\n",
    "four_males_tot=0\n",
    "four_females_tot=0\n",
    "four_yrs=[]\n",
    "four_yrs_males=[]\n",
    "four_yrs_females=[]\n",
    "four_yrs_tot=0\n",
    "five_aux=0\n",
    "five_males_aux=0\n",
    "five_females_aux=0\n",
    "five_males_tot=0\n",
    "five_females_tot=0\n",
    "five_yrs=[]\n",
    "five_yrs_females=[]\n",
    "five_yrs_males=[]\n",
    "five_yrs_tot=0\n",
    "six_aux=0\n",
    "six_males_aux=0\n",
    "six_females_aux=0\n",
    "six_males_tot=0\n",
    "six_females_tot=0\n",
    "six_yrs=[]\n",
    "six_yrs_males=[]\n",
    "six_yrs_females=[]\n",
    "six_yrs_tot=0\n",
    "total_passed=0\n",
    "while(index<len(df_beg)-2):\n",
    "    if(index2==10):\n",
    "        index+=1\n",
    "        index2=index+2\n",
    "    if(index2==10):\n",
    "        break\n",
    "    years=index2-index+1\n",
    "    for n,i in enumerate(df_end[str(index2)].values):\n",
    "        if i in df_beg[str(index)].values:\n",
    "            total_passed+=1\n",
    "            if years==3:  \n",
    "                if(gender_end[index2][n]=='Monsieur'):\n",
    "                    three_males_aux+=1\n",
    "                elif(gender_end[index2][n]=='Madame'):\n",
    "                    three_females_aux+=1\n",
    "                three_yrs_tot+=1\n",
    "                three_aux+=1\n",
    "            elif years==4:\n",
    "                if(gender_end[index2][n]=='Monsieur'):\n",
    "                    four_males_aux+=1\n",
    "                elif(gender_end[index2][n]=='Madame'):\n",
    "                    four_females_aux+=1\n",
    "                four_yrs_tot+=1\n",
    "                four_aux+=1\n",
    "            elif years==5:\n",
    "                if(gender_end[index2][n]=='Monsieur'):\n",
    "                    five_males_aux+=1\n",
    "                elif(gender_end[index2][n]=='Madame'):\n",
    "                    five_females_aux+=1\n",
    "                five_yrs_tot+=1\n",
    "                five_aux+=1\n",
    "            elif years==6:\n",
    "                if(gender_end[index2][n]=='Monsieur'):\n",
    "                    six_males_aux+=1\n",
    "                elif(gender_end[index2][n]=='Madame'):\n",
    "                    six_females_aux+=1\n",
    "                six_yrs_tot+=1\n",
    "                six_aux+=1\n",
    "    if years==3:\n",
    "        three_yrs.append([index,index2,three_aux])\n",
    "        three_yrs_males.append([index,index2,three_males_aux])\n",
    "        three_yrs_females.append([index,index2,three_females_aux])\n",
    "        three_males_tot+=three_males_aux\n",
    "        three_females_tot+=three_females_aux\n",
    "        three_males_aux=0\n",
    "        three_females_aux=0\n",
    "        three_aux=0\n",
    "    elif years==4:\n",
    "        four_yrs.append([index,index2,four_aux])\n",
    "        four_yrs_males.append([index,index2,four_males_aux])\n",
    "        four_yrs_females.append([index,index2,four_females_aux])\n",
    "        four_males_tot+=four_males_aux\n",
    "        four_females_tot+=four_females_aux\n",
    "        four_males_aux=0\n",
    "        four_females_aux=0\n",
    "        four_aux=0\n",
    "    elif years==5:\n",
    "        five_yrs.append([index,index2,five_aux])\n",
    "        five_yrs_males.append([index,index2,five_males_aux])\n",
    "        five_yrs_females.append([index,index2,five_females_aux])\n",
    "        five_males_tot+=five_males_aux\n",
    "        five_females_tot+=five_females_aux\n",
    "        five_males_aux=0\n",
    "        five_females_aux=0\n",
    "        five_aux=0\n",
    "    elif years==6:\n",
    "        six_yrs.append([index,index2,six_aux])\n",
    "        six_yrs_males.append([index,index2,six_males_aux])\n",
    "        six_yrs_females.append([index,index2,six_females_aux])\n",
    "        six_males_tot+=six_males_aux\n",
    "        six_females_tot+=six_females_aux\n",
    "        six_males_aux=0\n",
    "        six_females_aux=0\n",
    "        six_aux=0\n",
    "    index2+=1\n",
    "print('TOTAL ENROLLMENTS:',total_enrollments,'TOTAL_PASSED:',total_passed)\n",
    "#print(\"TOTAL PASSED in years: 3 years: \",three_yrs_tot,\"\\t4 years: \",four_yrs_tot,\"\\t5 years:\",five_yrs_tot,\"\\t6 years:\",six_yrs_tot)\n",
    "#print(\"TOTAL MALES PASSED in years: 3 years: \",three_males_tot,\"\\t4 years: \",four_males_tot,\"\\t5 years:\",five_males_tot,\"\\t6 years:\",six_males_tot)\n",
    "#print(\"TOTAL FEMALES PASSED in years: 3 years: \",three_females_tot,\"\\t4 years: \",four_females_tot,\"\\t5 years:\",five_females_tot,\"\\t6 years:\",six_females_tot)\n",
    "total_passed = pd.DataFrame({'Males':[three_males_tot, four_males_tot, five_males_tot, six_males_tot],\n",
    "                     'Females':[three_females_tot, four_females_tot, five_females_tot, six_females_tot],\n",
    "                     'Both':[three_yrs_tot,four_yrs_tot,five_yrs_tot,six_yrs_tot],\n",
    "                     'Years':['3 years','4 years','5 years','6 years']})\n",
    "total_passed = total_passed.set_index('Years')\n",
    "print('TOTAL ENROLLMENTS(men+women) 3 years',three_yrs)\n",
    "print('TOTAL ENROLLMENTS(men+women) 4 years',four_yrs)\n",
    "print('TOTAL ENROLLMENTS(men+women) 5 years',five_yrs)\n",
    "print('TOTAL ENROLLMENTS(men+women) 6 years',six_yrs)\n",
    "\n",
    "#average femmes enrolled over enrollment\n",
    "avg_femmes_enrolled=females_tot_beg/total_enrollments\n",
    "#avg femmes passed\n",
    "avg_femmes_passed=females_tot_end/females_tot_beg\n",
    "#avg femmes time, we don't contemplate extreme values bigger than 6 years\n",
    "avg_femmes_time=((3*three_females_tot+4*four_females_tot+5*five_females_tot+6*six_females_tot)/(three_females_tot+four_females_tot+five_females_tot+six_females_tot))\n",
    "\n",
    "#average hommes enrolled over enrollment\n",
    "avg_hommes_enrolled=males_tot_beg/total_enrollments\n",
    "#avg hommes passed\n",
    "avg_hommes_passed=males_tot_end/females_tot_beg\n",
    "#avg homes time, we don't contemplate extreme values bigger than 6 years\n",
    "avg_hommes_time=((3*three_males_tot+4*four_males_tot+5*five_males_tot+6*six_males_tot)/(three_males_tot+four_males_tot+five_males_tot+six_males_tot))\n",
    "\n"
   ]
  },
  {
   "cell_type": "markdown",
   "metadata": {},
   "source": [
    "Information about the months it tooks each student to go from the first to the sixth semester."
   ]
  },
  {
   "cell_type": "code",
   "execution_count": 8,
   "metadata": {
    "collapsed": false
   },
   "outputs": [
    {
     "name": "stdout",
     "output_type": "stream",
     "text": [
      "Average of the months for a female student: 3.2857142857142856\n",
      "Average of the months for a male student: 3.4703389830508473\n"
     ]
    },
    {
     "data": {
      "text/html": [
       "<div>\n",
       "<table border=\"1\" class=\"dataframe\">\n",
       "  <thead>\n",
       "    <tr style=\"text-align: right;\">\n",
       "      <th></th>\n",
       "      <th>Both</th>\n",
       "      <th>Females</th>\n",
       "      <th>Males</th>\n",
       "    </tr>\n",
       "    <tr>\n",
       "      <th>Years</th>\n",
       "      <th></th>\n",
       "      <th></th>\n",
       "      <th></th>\n",
       "    </tr>\n",
       "  </thead>\n",
       "  <tbody>\n",
       "    <tr>\n",
       "      <th>3 years</th>\n",
       "      <td>327</td>\n",
       "      <td>26</td>\n",
       "      <td>301</td>\n",
       "    </tr>\n",
       "    <tr>\n",
       "      <th>4 years</th>\n",
       "      <td>134</td>\n",
       "      <td>8</td>\n",
       "      <td>126</td>\n",
       "    </tr>\n",
       "    <tr>\n",
       "      <th>5 years</th>\n",
       "      <td>40</td>\n",
       "      <td>1</td>\n",
       "      <td>39</td>\n",
       "    </tr>\n",
       "    <tr>\n",
       "      <th>6 years</th>\n",
       "      <td>6</td>\n",
       "      <td>0</td>\n",
       "      <td>6</td>\n",
       "    </tr>\n",
       "  </tbody>\n",
       "</table>\n",
       "</div>"
      ],
      "text/plain": [
       "         Both  Females  Males\n",
       "Years                        \n",
       "3 years   327       26    301\n",
       "4 years   134        8    126\n",
       "5 years    40        1     39\n",
       "6 years     6        0      6"
      ]
     },
     "execution_count": 8,
     "metadata": {},
     "output_type": "execute_result"
    }
   ],
   "source": [
    "print('Average of the months for a female student: '+str(avg_femmes_time))\n",
    "print('Average of the months for a male student: '+str(avg_hommes_time))\n",
    "total_passed\n"
   ]
  },
  {
   "cell_type": "markdown",
   "metadata": {},
   "source": [
    "We would like to plot histogram of the previous info."
   ]
  },
  {
   "cell_type": "code",
   "execution_count": 9,
   "metadata": {
    "collapsed": false
   },
   "outputs": [
    {
     "data": {
      "image/png": "[encoded data removed]",
      "text/plain": [
       "<matplotlib.figure.Figure at 0x7f4739b13748>"
      ]
     },
     "metadata": {},
     "output_type": "display_data"
    },
    {
     "data": {
      "text/plain": [
       "Years\n",
       "3 years    327\n",
       "4 years    134\n",
       "5 years     40\n",
       "6 years      6\n",
       "Name: Both, dtype: int64"
      ]
     },
     "execution_count": 9,
     "metadata": {},
     "output_type": "execute_result"
    }
   ],
   "source": [
    "# Organizing the data, creating subplots and plotting.\n",
    "a = np.full(three_yrs_tot, 3, dtype=int)\n",
    "b = np.full(four_yrs_tot, 4, dtype=int)\n",
    "c = np.full(five_yrs_tot, 5, dtype=int)\n",
    "d = np.full(six_yrs_tot, 6, dtype=int)\n",
    "total_population = np.concatenate((a,b,c,d), axis=0)\n",
    "a = np.full(three_males_tot, 3, dtype=int)\n",
    "b = np.full(four_males_tot, 4, dtype=int)\n",
    "c = np.full(five_males_tot, 5, dtype=int)\n",
    "d = np.full(six_males_tot, 6, dtype=int)\n",
    "hommes_population = np.concatenate((a,b,c,d), axis=0)\n",
    "a = np.full(three_females_tot, 3, dtype=int)\n",
    "b = np.full(four_females_tot, 4, dtype=int)\n",
    "c = np.full(five_females_tot, 5, dtype=int)\n",
    "d = np.full(six_females_tot, 6, dtype=int)\n",
    "femmes_population = np.concatenate((a,b,c,d), axis=0)\n",
    "fit = stats.norm.pdf(total_population, np.mean(total_population), np.std(total_population))  #this is a fitting indeed\n",
    "fig = plt.figure()\n",
    "ax = fig.add_subplot(131)\n",
    "ax.set_title(\"Total\")\n",
    "ax.hist(total_population,bins=4)\n",
    "ax = fig.add_subplot(132)\n",
    "ax.set_title(\"Femme\")\n",
    "ax.hist(femmes_population,bins=4) \n",
    "ax = fig.add_subplot(133)\n",
    "ax.set_title(\"Hommes\")\n",
    "ax.hist(hommes_population,bins=4)\n",
    "plt.tight_layout()\n",
    "plt.show() \n",
    "total_passed['Both']\n"
   ]
  },
  {
   "cell_type": "markdown",
   "metadata": {},
   "source": [
    "For an alfa = 5%, we conclude that they aren't statistically significant"
   ]
  },
  {
   "cell_type": "code",
   "execution_count": 10,
   "metadata": {
    "collapsed": false
   },
   "outputs": [
    {
     "name": "stdout",
     "output_type": "stream",
     "text": [
      "Ttest_1sampResult(statistic=5.5980988793225128, pvalue=3.5578374527603538e-08)\n",
      "Ttest_1sampResult(statistic=-0.41511326435653323, pvalue=0.67823494381039673)\n",
      "Ttest_indResult(statistic=1.8506538631054561, pvalue=0.071127270605399848)\n",
      "Ttest_indResult(statistic=-0.2861118050587948, pvalue=0.77485359017866184)\n"
     ]
    }
   ],
   "source": [
    "print(stats.ttest_1samp(total_population,np.mean(femmes_population)))\n",
    "print(stats.ttest_1samp(total_population,np.mean(hommes_population)))\n",
    "print(stats.ttest_ind(total_population, femmes_population,equal_var=False))\n",
    "print(stats.ttest_ind(total_population, hommes_population,equal_var=False))\n"
   ]
  },
  {
   "cell_type": "code",
   "execution_count": 11,
   "metadata": {
    "collapsed": false
   },
   "outputs": [
    {
     "data": {
      "text/plain": [
       "-2.5705818366147399"
      ]
     },
     "execution_count": 11,
     "metadata": {},
     "output_type": "execute_result"
    }
   ],
   "source": [
    "stats.t.ppf(q=0.025,  # Quantile to check\n",
    "            df=5)"
   ]
  },
  {
   "cell_type": "code",
   "execution_count": 12,
   "metadata": {
    "collapsed": false
   },
   "outputs": [
    {
     "data": {
      "text/plain": [
       "2.5705818366147395"
      ]
     },
     "execution_count": 12,
     "metadata": {},
     "output_type": "execute_result"
    }
   ],
   "source": [
    "stats.t.ppf(q=0.975,  # Quantile to check\n",
    "            df=5)"
   ]
  },
  {
   "cell_type": "code",
   "execution_count": null,
   "metadata": {
    "collapsed": true
   },
   "outputs": [],
   "source": []
  }
 ],
 "metadata": {
  "anaconda-cloud": {},
  "kernelspec": {
   "display_name": "Python [conda root]",
   "language": "python",
   "name": "conda-root-py"
  },
  "language_info": {
   "codemirror_mode": {
    "name": "ipython",
    "version": 3
   },
   "file_extension": ".py",
   "mimetype": "text/x-python",
   "name": "python",
   "nbconvert_exporter": "python",
   "pygments_lexer": "ipython3",
   "version": "3.5.2"
  }
 },
 "nbformat": 4,
 "nbformat_minor": 1
}
