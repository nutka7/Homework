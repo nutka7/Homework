{
 "cells": [
  {
   "cell_type": "markdown",
   "metadata": {},
   "source": [
    "# 02 - Data from the Web"
   ]
  },
  {
   "cell_type": "markdown",
   "metadata": {},
   "source": [
    "We start importing all the libraries that we are going to use."
   ]
  },
  {
   "cell_type": "code",
   "execution_count": 269,
   "metadata": {
    "collapsed": false
   },
   "outputs": [],
   "source": [
    "import pandas as pd\n",
    "import numpy as np\n",
    "import requests\n",
    "from bs4 import BeautifulSoup # if you don't have this library, \n",
    "# install it. The homework instructions tell us to use it.\n"
   ]
  },
  {
   "cell_type": "markdown",
   "metadata": {},
   "source": [
    "Generating the base of our futures requests"
   ]
  },
  {
   "cell_type": "code",
   "execution_count": 270,
   "metadata": {
    "collapsed": false
   },
   "outputs": [
    {
     "data": {
      "text/plain": [
       "'http://isa.epfl.ch/imoniteur_ISAP/!GEDPUBLICREPORTS.filter?ww_x_PERIODE_ACAD=2016-2017&ww_x_UNITE_ACAD=Informatique&ww_x_GPS=-1&ww_i_reportModel=133685247&ww_i_reportModelXsl=133685270&ww_x_PERIODE_PEDAGO=Bachelor+semestre+1&ww_x_HIVERETE=Semestre+d%27automne 200'"
      ]
     },
     "execution_count": 270,
     "metadata": {},
     "output_type": "execute_result"
    }
   ],
   "source": [
    "payloadform = {'ww_i_reportModel': '133685247'}\n",
    "isa_baseurl = 'http://isa.epfl.ch/imoniteur_ISAP/!GEDPUBLICREPORTS'\n",
    "isa_formurl= isa_baseurl + \".filter\"\n",
    "r = requests.get(isa_formurl, params=payload)\n",
    "s = r.url + \" \" + str(r.status_code)\n",
    "s"
   ]
  },
  {
   "cell_type": "code",
   "execution_count": 271,
   "metadata": {
    "collapsed": false
   },
   "outputs": [
    {
     "data": {
      "text/plain": [
       "'Informatique'"
      ]
     },
     "execution_count": 271,
     "metadata": {},
     "output_type": "execute_result"
    }
   ],
   "source": [
    "soup = BeautifulSoup(r.text, 'html.parser')\n",
    "inputs = soup.select('form input') # extraemos una lista con todos los \n",
    "# inputs del form ,los 4 primeros inputs no nos valen\n",
    "inputs[5]['name'] # nombre de la opcion\n",
    "tags=inputs[6].select('option') # extraemos las posibles opcicones \n",
    "# de los inputs \n",
    "tags[1].contents # mostramos el contenido o texto dentro de una opcion\n",
    "tags[1]['value'] # valor que meter en nuestra petición rest (de cada opcion)\n",
    "inputs[5].select('option')[9].contents[0] # extraemos los nombres de los inputs"
   ]
  },
  {
   "cell_type": "markdown",
   "metadata": {},
   "source": [
    "With the data that we have just obtain, we will make the request petitions with a loops\n"
   ]
  },
  {
   "cell_type": "code",
   "execution_count": 272,
   "metadata": {
    "collapsed": false
   },
   "outputs": [
    {
     "data": {
      "text/plain": [
       "'http://isa.epfl.ch/imoniteur_ISAP/!GEDPUBLICREPORTS.html?ww_x_PERIODE_ACAD=355925344&ww_x_UNITE_ACAD=249847&ww_x_GPS=-1&ww_i_reportModel=133685247&ww_i_reportModelXsl=133685270&ww_x_PERIODE_PEDAGO=249108&ww_x_HIVERETE=2936286'"
      ]
     },
     "execution_count": 272,
     "metadata": {},
     "output_type": "execute_result"
    }
   ],
   "source": [
    "payloadfix = {'ww_x_GPS': '-1', 'ww_i_reportModel': '133685247', 'ww_i_reportModelXsl': '133685270', 'ww_x_UNITE_ACAD': '','ww_x_PERIODE_ACAD': '', 'ww_x_PERIODE_PEDAGO': '','ww_x_HIVERETE': '' }\n",
    "isa_dataurl = isa_baseurl + \".html\"\n",
    "# We have to make a loop here changing the payloadfix values. (only the next ones)\n",
    "payloadfix['ww_x_UNITE_ACAD'] = inputs[5].select('option')[9]['value']\n",
    "payloadfix['ww_x_PERIODE_ACAD'] = inputs[6].select('option')[1]['value']\n",
    "payloadfix['ww_x_PERIODE_PEDAGO'] = inputs[7].select('option')[1]['value']\n",
    "payloadfix['ww_x_HIVERETE'] = inputs[8].select('option')[1]['value']\n",
    "payloadfix\n",
    "r = requests.get(isa_dataurl, params=payloadfix)\n",
    "r.url\n"
   ]
  },
  {
   "cell_type": "code",
   "execution_count": 275,
   "metadata": {
    "collapsed": false
   },
   "outputs": [
    {
     "ename": "SyntaxError",
     "evalue": "invalid syntax (<ipython-input-275-155d304a4e2f>, line 6)",
     "output_type": "error",
     "traceback": [
      "\u001b[0;36m  File \u001b[0;32m\"<ipython-input-275-155d304a4e2f>\"\u001b[0;36m, line \u001b[0;32m6\u001b[0m\n\u001b[0;31m    print \"Nome: %s, Cognome: %s, Email: %s\" %           (tds[0].text, tds[1].text, tds[2].text)\u001b[0m\n\u001b[0m                                           ^\u001b[0m\n\u001b[0;31mSyntaxError\u001b[0m\u001b[0;31m:\u001b[0m invalid syntax\n"
     ]
    }
   ],
   "source": [
    "# Here we will need to parse the html using BeautifulSoup library.\n",
    "# The data that we want comes in a html table, won't be really hard to parse it.\n",
    "Data = BeautifulSoup(r.text, 'html.parser') \n",
    "print(Data.prettify())\n"
   ]
  },
  {
   "cell_type": "code",
   "execution_count": null,
   "metadata": {
    "collapsed": true
   },
   "outputs": [],
   "source": []
  },
  {
   "cell_type": "code",
   "execution_count": null,
   "metadata": {
    "collapsed": true
   },
   "outputs": [],
   "source": []
  }
 ],
 "metadata": {
  "anaconda-cloud": {},
  "kernelspec": {
   "display_name": "Python [conda root]",
   "language": "python",
   "name": "conda-root-py"
  },
  "language_info": {
   "codemirror_mode": {
    "name": "ipython",
    "version": 3
   },
   "file_extension": ".py",
   "mimetype": "text/x-python",
   "name": "python",
   "nbconvert_exporter": "python",
   "pygments_lexer": "ipython3",
   "version": "3.5.2"
  }
 },
 "nbformat": 4,
 "nbformat_minor": 1
}
